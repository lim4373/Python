{
 "cells": [
  {
   "attachments": {},
   "cell_type": "markdown",
   "metadata": {},
   "source": [
    "# 멋쟁이 사자 python"
   ]
  },
  {
   "cell_type": "markdown",
   "metadata": {},
   "source": []
  },
  {
   "attachments": {},
   "cell_type": "markdown",
   "metadata": {},
   "source": [
    "### 변수와 자료형- 변수 선언"
   ]
  },
  {
   "cell_type": "code",
   "execution_count": 5,
   "metadata": {},
   "outputs": [
    {
     "name": "stdout",
     "output_type": "stream",
     "text": [
      "안녕하세요\n"
     ]
    }
   ],
   "source": [
    "print(\"안녕하세요\")"
   ]
  },
  {
   "cell_type": "code",
   "execution_count": 12,
   "metadata": {},
   "outputs": [
    {
     "name": "stdout",
     "output_type": "stream",
     "text": [
      "안녕하세요\n",
      "반갑습니당\n"
     ]
    }
   ],
   "source": [
    "greeting = \"안녕하세요\"\n",
    "print(greeting)\n",
    "greeting = \"반갑습니당\"\n",
    "print(greeting)"
   ]
  },
  {
   "cell_type": "code",
   "execution_count": 14,
   "metadata": {},
   "outputs": [
    {
     "ename": "SyntaxError",
     "evalue": "invalid syntax (2218916413.py, line 3)",
     "output_type": "error",
     "traceback": [
      "\u001b[1;36m  Cell \u001b[1;32mIn [14], line 3\u001b[1;36m\u001b[0m\n\u001b[1;33m    gree ting =\"안녕하세요\"\u001b[0m\n\u001b[1;37m         ^\u001b[0m\n\u001b[1;31mSyntaxError\u001b[0m\u001b[1;31m:\u001b[0m invalid syntax\n"
     ]
    }
   ],
   "source": [
    "# 변수 선언시 주의 사항 \n",
    "# 1.변수 사이에 공백 허용 x\n",
    "gree ting =\"안녕하세요\"\n",
    "print(gree ting)"
   ]
  },
  {
   "cell_type": "code",
   "execution_count": 16,
   "metadata": {},
   "outputs": [
    {
     "name": "stdout",
     "output_type": "stream",
     "text": [
      "안녕하세요\n",
      "졸리다\n"
     ]
    }
   ],
   "source": [
    "# 2. 단어 사이는 _사용\n",
    "gree_ting = '안녕하세요'\n",
    "print(gree_ting)\n",
    "my_greeting = \"졸리다\"\n",
    "print(my_greeting)"
   ]
  },
  {
   "cell_type": "code",
   "execution_count": 17,
   "metadata": {},
   "outputs": [
    {
     "name": "stdout",
     "output_type": "stream",
     "text": [
      "안녕\n"
     ]
    }
   ],
   "source": [
    "# 3. 변수를 선언하기 위한 문자열은 숫자/특수문자로 시작이 불가\n",
    "greeting_1 = \"안녕\"\n",
    "print(greeting_1)\n",
    "# 1_greeting,!_greeting은 x"
   ]
  },
  {
   "cell_type": "code",
   "execution_count": 18,
   "metadata": {},
   "outputs": [],
   "source": [
    "# 4.예악어 변수로 선언 불가\n",
    "# print = \"안녕\" x"
   ]
  },
  {
   "cell_type": "code",
   "execution_count": null,
   "metadata": {},
   "outputs": [],
   "source": [
    "# 5. 가급적 소문자 사용"
   ]
  },
  {
   "cell_type": "code",
   "execution_count": 1,
   "metadata": {},
   "outputs": [
    {
     "name": "stdout",
     "output_type": "stream",
     "text": [
      "1\n"
     ]
    }
   ],
   "source": [
    "a = 1\n",
    "print(a)"
   ]
  },
  {
   "cell_type": "code",
   "execution_count": 16,
   "metadata": {},
   "outputs": [
    {
     "name": "stdout",
     "output_type": "stream",
     "text": [
      "\"안녕하세영\"\n",
      "'hi'\n",
      "\"hello\"\n"
     ]
    }
   ],
   "source": [
    "#큰 따옴표 출력\n",
    "print('\"안녕하세영\"')\n",
    "#작은 따옴표 출력\n",
    "print(\"'hi'\")\n",
    "#\\ 사용\n",
    "print(\"\\\"hello\\\"\")"
   ]
  },
  {
   "attachments": {},
   "cell_type": "markdown",
   "metadata": {},
   "source": [
    "# 문자열"
   ]
  },
  {
   "attachments": {},
   "cell_type": "markdown",
   "metadata": {},
   "source": [
    "### 문자열 (string)"
   ]
  },
  {
   "cell_type": "code",
   "execution_count": 3,
   "metadata": {},
   "outputs": [
    {
     "name": "stdout",
     "output_type": "stream",
     "text": [
      "seoul\n"
     ]
    }
   ],
   "source": [
    "city = \"seoul\" # city라는 변수에 서울을 할당\n",
    "print(city)"
   ]
  },
  {
   "cell_type": "code",
   "execution_count": 7,
   "metadata": {},
   "outputs": [
    {
     "name": "stdout",
     "output_type": "stream",
     "text": [
      "SEOUL\n",
      "seoul\n"
     ]
    }
   ],
   "source": [
    "city.upper()\n",
    "print(city.upper())\n",
    "print(city.lower())"
   ]
  },
  {
   "cell_type": "code",
   "execution_count": 5,
   "metadata": {},
   "outputs": [
    {
     "name": "stdout",
     "output_type": "stream",
     "text": [
      "SEOUL\n"
     ]
    }
   ],
   "source": [
    "city= city.upper()\n",
    "print(city)"
   ]
  },
  {
   "cell_type": "code",
   "execution_count": 6,
   "metadata": {},
   "outputs": [
    {
     "name": "stdout",
     "output_type": "stream",
     "text": [
      "seoul\n"
     ]
    }
   ],
   "source": [
    "city = city.lower()\n",
    "print(city)"
   ]
  },
  {
   "cell_type": "code",
   "execution_count": 12,
   "metadata": {},
   "outputs": [
    {
     "name": "stdout",
     "output_type": "stream",
     "text": [
      "developer    \n",
      "developer\n"
     ]
    }
   ],
   "source": [
    "occupation = \"developer    \"#공백은 문자로 취급\n",
    "print(occupation)\n",
    "#\"developer\" #위에 developer와는 다른 것\n",
    "occupation.rstrip()\n",
    "print(occupation.rstrip())"
   ]
  },
  {
   "cell_type": "code",
   "execution_count": 11,
   "metadata": {},
   "outputs": [
    {
     "name": "stdout",
     "output_type": "stream",
     "text": [
      "developer    \n"
     ]
    }
   ],
   "source": [
    "occupation.lstrip() #왼쪽 공백 지우기\n",
    "print(occupation.lstrip())"
   ]
  },
  {
   "cell_type": "code",
   "execution_count": 17,
   "metadata": {},
   "outputs": [
    {
     "name": "stdout",
     "output_type": "stream",
     "text": [
      "INFP ENFP ESTJ\n",
      "INFP\n",
      "ENFP\n",
      "ESTJ\n",
      "INFP\tENFP\tESTJ\n"
     ]
    }
   ],
   "source": [
    "#공백을 입력하는 경우\n",
    "print(\"INFP ENFP ESTJ\")\n",
    "print(\"INFP\\nENFP\\nESTJ\")\n",
    "print(\"INFP\\tENFP\\tESTJ\") "
   ]
  },
  {
   "cell_type": "code",
   "execution_count": 20,
   "metadata": {},
   "outputs": [
    {
     "name": "stdout",
     "output_type": "stream",
     "text": [
      "90\n",
      "75\n"
     ]
    }
   ],
   "source": [
    "score =\"점수:90\" # 숫자만 나오게 하고 싶은데 어떻게 처리?\n",
    "print(score.removeprefix(\"점수:\"))\n",
    "score_2 = \"75점\"\n",
    "print(score_2.removesuffix(\"점\"))"
   ]
  },
  {
   "cell_type": "code",
   "execution_count": 21,
   "metadata": {},
   "outputs": [
    {
     "name": "stdout",
     "output_type": "stream",
     "text": [
      "서울시 중구\n"
     ]
    }
   ],
   "source": [
    "city = \"서울 중구\" #서울시 중구로 바꾸고 싶다\n",
    "print(city.replace(\"서울\",\"서울시\"))\n",
    "\n"
   ]
  },
  {
   "cell_type": "code",
   "execution_count": null,
   "metadata": {},
   "outputs": [],
   "source": []
  }
 ],
 "metadata": {
  "kernelspec": {
   "display_name": "Python 3",
   "language": "python",
   "name": "python3"
  },
  "language_info": {
   "codemirror_mode": {
    "name": "ipython",
    "version": 3
   },
   "file_extension": ".py",
   "mimetype": "text/x-python",
   "name": "python",
   "nbconvert_exporter": "python",
   "pygments_lexer": "ipython3",
   "version": "3.10.4"
  },
  "orig_nbformat": 4
 },
 "nbformat": 4,
 "nbformat_minor": 2
}
