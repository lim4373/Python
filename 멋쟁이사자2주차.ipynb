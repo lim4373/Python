{
 "cells": [
  {
   "attachments": {},
   "cell_type": "markdown",
   "metadata": {},
   "source": [
    "# 멋쟁이 사자 python"
   ]
  },
  {
   "cell_type": "markdown",
   "metadata": {},
   "source": []
  },
  {
   "attachments": {},
   "cell_type": "markdown",
   "metadata": {},
   "source": [
    "### 변수와 자료형- 변수 선언"
   ]
  },
  {
   "cell_type": "code",
   "execution_count": 3,
   "metadata": {},
   "outputs": [
    {
     "name": "stdout",
     "output_type": "stream",
     "text": [
      "안녕하세요\n"
     ]
    }
   ],
   "source": [
    "print(\"안녕하세요\")"
   ]
  },
  {
   "cell_type": "code",
   "execution_count": null,
   "metadata": {},
   "outputs": [
    {
     "name": "stdout",
     "output_type": "stream",
     "text": [
      "안녕하세요\n",
      "반갑습니당\n"
     ]
    }
   ],
   "source": [
    "greeting = \"안녕하세요\"\n",
    "print(greeting)\n",
    "greeting = \"반갑습니당\"\n",
    "print(greeting)"
   ]
  },
  {
   "cell_type": "code",
   "execution_count": 14,
   "metadata": {},
   "outputs": [
    {
     "ename": "SyntaxError",
     "evalue": "invalid syntax (2218916413.py, line 3)",
     "output_type": "error",
     "traceback": [
      "\u001b[1;36m  Cell \u001b[1;32mIn [14], line 3\u001b[1;36m\u001b[0m\n\u001b[1;33m    gree ting =\"안녕하세요\"\u001b[0m\n\u001b[1;37m         ^\u001b[0m\n\u001b[1;31mSyntaxError\u001b[0m\u001b[1;31m:\u001b[0m invalid syntax\n"
     ]
    }
   ],
   "source": [
    "# 변수 선언시 주의 사항 \n",
    "# 1.변수 사이에 공백 허용 x\n",
    "gree ting =\"안녕하세요\"\n",
    "print(gree ting)"
   ]
  },
  {
   "cell_type": "code",
   "execution_count": 1,
   "metadata": {},
   "outputs": [
    {
     "name": "stdout",
     "output_type": "stream",
     "text": [
      "안녕하세요\n",
      "졸리다\n"
     ]
    }
   ],
   "source": [
    "# 2. 단어 사이는 _사용\n",
    "gree_ting = '안녕하세요'\n",
    "print(gree_ting)\n",
    "my_greeting = \"졸리다\"\n",
    "print(my_greeting)"
   ]
  },
  {
   "cell_type": "code",
   "execution_count": 17,
   "metadata": {},
   "outputs": [
    {
     "name": "stdout",
     "output_type": "stream",
     "text": [
      "안녕\n"
     ]
    }
   ],
   "source": [
    "# 3. 변수를 선언하기 위한 문자열은 숫자/특수문자로 시작이 불가\n",
    "greeting_1 = \"안녕\"\n",
    "print(greeting_1)\n",
    "# 1_greeting,!_greeting은 x"
   ]
  },
  {
   "cell_type": "code",
   "execution_count": 18,
   "metadata": {},
   "outputs": [],
   "source": [
    "# 4.예악어 변수로 선언 불가\n",
    "# print = \"안녕\" x"
   ]
  },
  {
   "cell_type": "code",
   "execution_count": null,
   "metadata": {},
   "outputs": [],
   "source": [
    "# 5. 가급적 소문자 사용"
   ]
  },
  {
   "cell_type": "code",
   "execution_count": 1,
   "metadata": {},
   "outputs": [
    {
     "name": "stdout",
     "output_type": "stream",
     "text": [
      "1\n"
     ]
    }
   ],
   "source": [
    "a = 1\n",
    "print(a)"
   ]
  },
  {
   "cell_type": "code",
   "execution_count": 16,
   "metadata": {},
   "outputs": [
    {
     "name": "stdout",
     "output_type": "stream",
     "text": [
      "\"안녕하세영\"\n",
      "'hi'\n",
      "\"hello\"\n"
     ]
    }
   ],
   "source": [
    "#큰 따옴표 출력\n",
    "print('\"안녕하세영\"')\n",
    "#작은 따옴표 출력\n",
    "print(\"'hi'\")\n",
    "#\\ 사용\n",
    "print(\"\\\"hello\\\"\")"
   ]
  },
  {
   "attachments": {},
   "cell_type": "markdown",
   "metadata": {},
   "source": [
    "# 문자열"
   ]
  },
  {
   "attachments": {},
   "cell_type": "markdown",
   "metadata": {},
   "source": [
    "### 문자열 (string)"
   ]
  },
  {
   "cell_type": "code",
   "execution_count": 3,
   "metadata": {},
   "outputs": [
    {
     "name": "stdout",
     "output_type": "stream",
     "text": [
      "seoul\n"
     ]
    }
   ],
   "source": [
    "city = \"seoul\" # city라는 변수에 서울을 할당\n",
    "print(city)"
   ]
  },
  {
   "cell_type": "code",
   "execution_count": 2,
   "metadata": {},
   "outputs": [
    {
     "name": "stdout",
     "output_type": "stream",
     "text": [
      "서울 중구\n",
      "서울 중구\n"
     ]
    }
   ],
   "source": [
    "city.upper()\n",
    "print(city.upper())\n",
    "print(city.lower())"
   ]
  },
  {
   "cell_type": "code",
   "execution_count": 5,
   "metadata": {},
   "outputs": [
    {
     "name": "stdout",
     "output_type": "stream",
     "text": [
      "SEOUL\n"
     ]
    }
   ],
   "source": [
    "city= city.upper()\n",
    "print(city)"
   ]
  },
  {
   "cell_type": "code",
   "execution_count": 6,
   "metadata": {},
   "outputs": [
    {
     "name": "stdout",
     "output_type": "stream",
     "text": [
      "seoul\n"
     ]
    }
   ],
   "source": [
    "city = city.lower()\n",
    "print(city)"
   ]
  },
  {
   "cell_type": "code",
   "execution_count": 12,
   "metadata": {},
   "outputs": [
    {
     "name": "stdout",
     "output_type": "stream",
     "text": [
      "developer    \n",
      "developer\n"
     ]
    }
   ],
   "source": [
    "occupation = \"developer    \"#공백은 문자로 취급\n",
    "print(occupation)\n",
    "#\"developer\" #위에 developer와는 다른 것\n",
    "occupation.rstrip()\n",
    "print(occupation.rstrip())"
   ]
  },
  {
   "cell_type": "code",
   "execution_count": 11,
   "metadata": {},
   "outputs": [
    {
     "name": "stdout",
     "output_type": "stream",
     "text": [
      "developer    \n"
     ]
    }
   ],
   "source": [
    "occupation.lstrip() #왼쪽 공백 지우기\n",
    "print(occupation.lstrip())"
   ]
  },
  {
   "cell_type": "code",
   "execution_count": 17,
   "metadata": {},
   "outputs": [
    {
     "name": "stdout",
     "output_type": "stream",
     "text": [
      "INFP ENFP ESTJ\n",
      "INFP\n",
      "ENFP\n",
      "ESTJ\n",
      "INFP\tENFP\tESTJ\n"
     ]
    }
   ],
   "source": [
    "#공백을 입력하는 경우\n",
    "print(\"INFP ENFP ESTJ\")\n",
    "print(\"INFP\\nENFP\\nESTJ\")\n",
    "print(\"INFP\\tENFP\\tESTJ\") "
   ]
  },
  {
   "cell_type": "code",
   "execution_count": 20,
   "metadata": {},
   "outputs": [
    {
     "name": "stdout",
     "output_type": "stream",
     "text": [
      "90\n",
      "75\n"
     ]
    }
   ],
   "source": [
    "score =\"점수:90\" # 숫자만 나오게 하고 싶은데 어떻게 처리?\n",
    "print(score.removeprefix(\"점수:\"))\n",
    "score_2 = \"75점\"\n",
    "print(score_2.removesuffix(\"점\"))"
   ]
  },
  {
   "cell_type": "code",
   "execution_count": 1,
   "metadata": {},
   "outputs": [
    {
     "name": "stdout",
     "output_type": "stream",
     "text": [
      "서울시 중구\n"
     ]
    }
   ],
   "source": [
    "city = \"서울 중구\" #서울시 중구로 바꾸고 싶다\n",
    "print(city.replace(\"서울\",\"서울시\"))\n",
    "\n"
   ]
  },
  {
   "attachments": {},
   "cell_type": "markdown",
   "metadata": {},
   "source": [
    "# 문자열 f string"
   ]
  },
  {
   "cell_type": "markdown",
   "metadata": {},
   "source": []
  },
  {
   "cell_type": "code",
   "execution_count": 9,
   "metadata": {},
   "outputs": [
    {
     "name": "stdout",
     "output_type": "stream",
     "text": [
      "ratio of 10 and 3 is 3.3333333333333335\n",
      "나는 행복 합니다\n"
     ]
    }
   ],
   "source": [
    "a = 10\n",
    "b = 3\n",
    "print(f\"ratio of {a} and {b} is {a/b}\")\n",
    "\n",
    "aa = \"행복\"\n",
    "print(f\"나는 {aa} 합니다\")"
   ]
  },
  {
   "cell_type": "code",
   "execution_count": 13,
   "metadata": {},
   "outputs": [
    {
     "name": "stdout",
     "output_type": "stream",
     "text": [
      "서울시 종로구\n"
     ]
    }
   ],
   "source": [
    "si = \"용인\"\n",
    "gu = \"기흥\"\n",
    "si_2 = \"서울\"\n",
    "gu_2 = \"종로\"\n",
    "address_1 = f\"{si_2}시 {gu_2}구\"\n",
    "print(address_1)\n",
    "\n",
    "\n",
    "#print(f\"{si}시 {gu}구\")\n",
    "#print(f\"{si_2}시 {gu_2}구\")\n",
    "#서울시 종로구\n",
    "#용인시 기흥구\n"
   ]
  },
  {
   "attachments": {},
   "cell_type": "markdown",
   "metadata": {},
   "source": [
    "# 숫자 데이터"
   ]
  },
  {
   "cell_type": "code",
   "execution_count": 21,
   "metadata": {},
   "outputs": [
    {
     "name": "stdout",
     "output_type": "stream",
     "text": [
      "5\n",
      "-1\n",
      "6\n",
      "8\n",
      "0.6666666666666666\n",
      "0\n",
      "2\n",
      "15\n",
      "11\n"
     ]
    }
   ],
   "source": [
    "a = 2\n",
    "b = 3\n",
    "\n",
    "print(a+b)\n",
    "print(a-b)\n",
    "print(a*b)\n",
    "print(a**b) # 2가 밑 3이 지수\n",
    "print(a/b) #나누기\n",
    "print(a//b) #몫\n",
    "print(a%b) #나머지 \n",
    "\n",
    "print((a+b)*b)\n",
    "print(a+b*b)"
   ]
  },
  {
   "attachments": {},
   "cell_type": "markdown",
   "metadata": {},
   "source": [
    "### 실수(Float) - 십진 부동 소수점"
   ]
  },
  {
   "cell_type": "code",
   "execution_count": 24,
   "metadata": {},
   "outputs": [
    {
     "name": "stdout",
     "output_type": "stream",
     "text": [
      "0.8999999999999999\n",
      "0.3\n",
      "0.18\n",
      "2.0\n",
      "1.6\n",
      "-0.4\n",
      "0.6\n",
      "0.6\n"
     ]
    }
   ],
   "source": [
    "x = 0.6\n",
    "y = 0.3\n",
    "z = 1\n",
    "\n",
    "print(x+y) #컴퓨터는 2진수로! 그래서 근사치 계산\n",
    "print(x-y)\n",
    "print(x*y)\n",
    "print(x/y)\n",
    "\n",
    "print(x+z)\n",
    "print(x-z)\n",
    "print(x*z)\n",
    "print(x/z)\n",
    "\n",
    "#정수와 실수의 계산에서는 결과가 실수가 나옴"
   ]
  },
  {
   "cell_type": "code",
   "execution_count": 16,
   "metadata": {},
   "outputs": [
    {
     "data": {
      "text/plain": [
       "8"
      ]
     },
     "execution_count": 16,
     "metadata": {},
     "output_type": "execute_result"
    }
   ],
   "source": [
    "pow(2,3) #제곱"
   ]
  },
  {
   "cell_type": "code",
   "execution_count": 19,
   "metadata": {},
   "outputs": [
    {
     "data": {
      "text/plain": [
       "(3, 1)"
      ]
     },
     "execution_count": 19,
     "metadata": {},
     "output_type": "execute_result"
    }
   ],
   "source": [
    "divmod(7,2) #내장 함수로 나눗셈"
   ]
  },
  {
   "attachments": {},
   "cell_type": "markdown",
   "metadata": {},
   "source": [
    "### 큰수"
   ]
  },
  {
   "cell_type": "code",
   "execution_count": 26,
   "metadata": {},
   "outputs": [
    {
     "name": "stdout",
     "output_type": "stream",
     "text": [
      "123490000000000\n"
     ]
    }
   ],
   "source": [
    "price = 12_349000_000_0000 # 조금 더 식별하기 쉽게\n",
    "#price = 123490000000000\n",
    "print(price)\n"
   ]
  },
  {
   "cell_type": "code",
   "execution_count": 29,
   "metadata": {},
   "outputs": [
    {
     "name": "stdout",
     "output_type": "stream",
     "text": [
      "3.141592\n",
      "1.232323\n"
     ]
    }
   ],
   "source": [
    "# 상수(contants 한번 선언된 데이터 공간에 다른 데이터가 못 들어옴)\n",
    "PI = 3.141592 #식별자로 상수\n",
    "pi = 1.232323\n",
    "print(PI)\n",
    "print(pi)"
   ]
  },
  {
   "attachments": {},
   "cell_type": "markdown",
   "metadata": {},
   "source": [
    "# 문자열-숫자 간 변환"
   ]
  },
  {
   "cell_type": "code",
   "execution_count": 33,
   "metadata": {},
   "outputs": [
    {
     "name": "stdout",
     "output_type": "stream",
     "text": [
      "100\n",
      "100\n",
      "\"100\"\n",
      "0.453\n"
     ]
    }
   ],
   "source": [
    "a = 100 # 숫자\n",
    "b = \"100\" # 문자열\n",
    "# 컴퓨터는 어떻게 이해할까? 동일한 데이터로 인식 X\n",
    "c = '\"100\"'\n",
    "d = \"0.453\"\n",
    "a = str(a) # 문자열로 변환\n",
    "b = int(b) # 숫자로 변환\n",
    "d = float(d)\n",
    "print(a)\n",
    "print(b)\n",
    "print(c)\n",
    "print(d)\n"
   ]
  },
  {
   "attachments": {},
   "cell_type": "markdown",
   "metadata": {},
   "source": [
    "# 논리형(Bool, Boolean)"
   ]
  },
  {
   "cell_type": "code",
   "execution_count": 45,
   "metadata": {},
   "outputs": [
    {
     "name": "stdout",
     "output_type": "stream",
     "text": [
      "True\n",
      "False\n",
      "True\n",
      "True\n",
      "False\n"
     ]
    },
    {
     "name": "stderr",
     "output_type": "stream",
     "text": [
      "<>:9: SyntaxWarning: \"is\" with a literal. Did you mean \"==\"?\n",
      "<>:9: SyntaxWarning: \"is\" with a literal. Did you mean \"==\"?\n",
      "C:\\Users\\lim78\\AppData\\Local\\Temp\\ipykernel_17036\\525125342.py:9: SyntaxWarning: \"is\" with a literal. Did you mean \"==\"?\n",
      "  print( 3 is 3.0)\n"
     ]
    }
   ],
   "source": [
    "#대문자로 시작하는 키워드\n",
    "#True\n",
    "#False\n",
    "\n",
    "print(3 > 2)\n",
    "print(3 == 2) # =은 할당\n",
    "print(3 == 3)\n",
    "print( 3 == 3.0) \n",
    "print( 3 is 3.0) # type을 본다"
   ]
  },
  {
   "cell_type": "code",
   "execution_count": 41,
   "metadata": {},
   "outputs": [
    {
     "name": "stdout",
     "output_type": "stream",
     "text": [
      "True\n"
     ]
    }
   ],
   "source": [
    "a = input(\"이름이 뭐야?\")\n",
    "sunglim == True\n",
    "if a == \"sunglim\":\n",
    "    print(True)\n",
    "else:\n",
    "    print(False)"
   ]
  },
  {
   "attachments": {},
   "cell_type": "markdown",
   "metadata": {},
   "source": [
    "# 명령 프롬프트(prompt)"
   ]
  },
  {
   "cell_type": "code",
   "execution_count": 50,
   "metadata": {},
   "outputs": [
    {
     "name": "stdout",
     "output_type": "stream",
     "text": [
      "ㅎㅇㅎㅇㅇㅎ\n"
     ]
    }
   ],
   "source": [
    "#터미널, input()함수 사용\n",
    "a = input(\"안녕하세요?>>\") # dd 입력\n",
    "print(a)\n",
    "\n"
   ]
  },
  {
   "attachments": {},
   "cell_type": "markdown",
   "metadata": {},
   "source": [
    "## 주석 (comments)"
   ]
  },
  {
   "attachments": {},
   "cell_type": "markdown",
   "metadata": {},
   "source": [
    "### 한 줄 주석/ 여러 줄 주석\n",
    "### 여러 줄 주석?"
   ]
  },
  {
   "attachments": {},
   "cell_type": "markdown",
   "metadata": {},
   "source": [
    "# 응용"
   ]
  },
  {
   "cell_type": "code",
   "execution_count": 56,
   "metadata": {},
   "outputs": [
    {
     "name": "stdout",
     "output_type": "stream",
     "text": [
      "1:아이스 아메리카노 1,800원\n",
      "2:카페라떼 2,700원\n",
      "3:핫초코 2,300원\n",
      "10000원을 받았습니다. 거스름돈은800원 입니다.또 방문해주세용\n"
     ]
    }
   ],
   "source": [
    "#커피 계산\n",
    "print(\"1:아이스 아메리카노 1,800원\\n\" \"2:카페라떼 2,700원\\n\" \"3:핫초코 2,300원\")\n",
    "coffee_price = 0 # 커피가격 변수\n",
    "order = int(input(\"커피 종류를 선택하세요. 번호 입력>>>\"))\n",
    "if order == 1:\n",
    "    coffee_price = 1800\n",
    "elif order == 2:\n",
    "    coffee_price = 2700\n",
    "elif order == 3:\n",
    "    coffee_price = 2300\n",
    "#그 다음은 몇잔을 주문할지\n",
    "cups = int(input(\"몇 잔을 드릴까요? >>>\"))\n",
    "total_price = coffee_price * cups\n",
    "\n",
    "received = int(input(f\"총 금액은 {total_price}원 입니다. 돈을 투입해주세요(카드x) >>>\"))\n",
    "if received >= total_price:\n",
    "    change = received-total_price\n",
    "    a = \"또 방문해주세용\" \n",
    "    print(f\"{received}원을 받았습니다. 거스름돈은{change}원 입니다.{a}\")\n",
    "else:\n",
    "    print(\"금액이 부족합니다. 나가주세요\")\n",
    "    "
   ]
  },
  {
   "cell_type": "code",
   "execution_count": 58,
   "metadata": {},
   "outputs": [
    {
     "name": "stdout",
     "output_type": "stream",
     "text": [
      "1:아이스 아메리카노  1,500\n",
      "2:허니자몽블랙티  3,500\n",
      "3.얼그레이 3,000\n",
      "10000원을 받았습니다. 거스름돈은 3000 입니다.또 방문해주세요\n"
     ]
    }
   ],
   "source": [
    "# 성림스의 카페\n",
    "print(\"1:아이스 아메리카노  1,500\\n\" \"2:허니자몽블랙티  3,500\\n\" \"3.얼그레이 3,000\")\n",
    "coffee_price = 0\n",
    "order = int(input(\"음료 주문을 선택해주세요! 번호 입력>>>\"))\n",
    "if order == 1:\n",
    "    coffee_price = 1800\n",
    "elif order == 2:\n",
    "    coffee_price = 3500\n",
    "elif order == 3:\n",
    "    coffee_price = 3000\n",
    "cups = int(input(\"몇잔을 주문하시겠어요? >>>\"))\n",
    "total_price = coffee_price*cups\n",
    "a = \"카드\"\n",
    "\n",
    "received = int(input(f\"총 금액은 {total_price} 입니다.현금을 투입해주세요{a}는 안됩니다 ㅎㅎ>>> \"))\n",
    "if received >= total_price:\n",
    "    change = received - total_price\n",
    "    come = \"또 방문해주세요\"\n",
    "    print(f\"{received}원을 받았습니다. 거스름돈은 {change} 입니다.{come}\")\n",
    "else:\n",
    "    print(\"나가주세요\")\n"
   ]
  },
  {
   "cell_type": "code",
   "execution_count": null,
   "metadata": {},
   "outputs": [],
   "source": []
  }
 ],
 "metadata": {
  "kernelspec": {
   "display_name": "Python 3",
   "language": "python",
   "name": "python3"
  },
  "language_info": {
   "codemirror_mode": {
    "name": "ipython",
    "version": 3
   },
   "file_extension": ".py",
   "mimetype": "text/x-python",
   "name": "python",
   "nbconvert_exporter": "python",
   "pygments_lexer": "ipython3",
   "version": "3.11.2"
  },
  "orig_nbformat": 4
 },
 "nbformat": 4,
 "nbformat_minor": 2
}
