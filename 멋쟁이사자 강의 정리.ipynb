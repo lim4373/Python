{
 "cells": [
  {
   "attachments": {},
   "cell_type": "markdown",
   "metadata": {},
   "source": [
    "# 멋쟁이 사자 python"
   ]
  },
  {
   "cell_type": "markdown",
   "metadata": {},
   "source": []
  },
  {
   "attachments": {},
   "cell_type": "markdown",
   "metadata": {},
   "source": [
    "### 변수와 자료형- 변수 선언"
   ]
  },
  {
   "cell_type": "code",
   "execution_count": 3,
   "metadata": {},
   "outputs": [
    {
     "name": "stdout",
     "output_type": "stream",
     "text": [
      "안녕하세요\n"
     ]
    }
   ],
   "source": [
    "print(\"안녕하세요\")"
   ]
  },
  {
   "cell_type": "code",
   "execution_count": null,
   "metadata": {},
   "outputs": [
    {
     "name": "stdout",
     "output_type": "stream",
     "text": [
      "안녕하세요\n",
      "반갑습니당\n"
     ]
    }
   ],
   "source": [
    "greeting = \"안녕하세요\"\n",
    "print(greeting)\n",
    "greeting = \"반갑습니당\"\n",
    "print(greeting)"
   ]
  },
  {
   "cell_type": "code",
   "execution_count": 14,
   "metadata": {},
   "outputs": [
    {
     "ename": "SyntaxError",
     "evalue": "invalid syntax (2218916413.py, line 3)",
     "output_type": "error",
     "traceback": [
      "\u001b[1;36m  Cell \u001b[1;32mIn [14], line 3\u001b[1;36m\u001b[0m\n\u001b[1;33m    gree ting =\"안녕하세요\"\u001b[0m\n\u001b[1;37m         ^\u001b[0m\n\u001b[1;31mSyntaxError\u001b[0m\u001b[1;31m:\u001b[0m invalid syntax\n"
     ]
    }
   ],
   "source": [
    "# 변수 선언시 주의 사항 \n",
    "# 1.변수 사이에 공백 허용 x\n",
    "gree ting =\"안녕하세요\"\n",
    "print(gree ting)"
   ]
  },
  {
   "cell_type": "code",
   "execution_count": 1,
   "metadata": {},
   "outputs": [
    {
     "name": "stdout",
     "output_type": "stream",
     "text": [
      "안녕하세요\n",
      "졸리다\n"
     ]
    }
   ],
   "source": [
    "# 2. 단어 사이는 _사용\n",
    "gree_ting = '안녕하세요'\n",
    "print(gree_ting)\n",
    "my_greeting = \"졸리다\"\n",
    "print(my_greeting)"
   ]
  },
  {
   "cell_type": "code",
   "execution_count": 17,
   "metadata": {},
   "outputs": [
    {
     "name": "stdout",
     "output_type": "stream",
     "text": [
      "안녕\n"
     ]
    }
   ],
   "source": [
    "# 3. 변수를 선언하기 위한 문자열은 숫자/특수문자로 시작이 불가\n",
    "greeting_1 = \"안녕\"\n",
    "print(greeting_1)\n",
    "# 1_greeting,!_greeting은 x"
   ]
  },
  {
   "cell_type": "code",
   "execution_count": 18,
   "metadata": {},
   "outputs": [],
   "source": [
    "# 4.예악어 변수로 선언 불가\n",
    "# print = \"안녕\" x"
   ]
  },
  {
   "cell_type": "code",
   "execution_count": null,
   "metadata": {},
   "outputs": [],
   "source": [
    "# 5. 가급적 소문자 사용"
   ]
  },
  {
   "cell_type": "code",
   "execution_count": 1,
   "metadata": {},
   "outputs": [
    {
     "name": "stdout",
     "output_type": "stream",
     "text": [
      "1\n"
     ]
    }
   ],
   "source": [
    "a = 1\n",
    "print(a)"
   ]
  },
  {
   "cell_type": "code",
   "execution_count": 16,
   "metadata": {},
   "outputs": [
    {
     "name": "stdout",
     "output_type": "stream",
     "text": [
      "\"안녕하세영\"\n",
      "'hi'\n",
      "\"hello\"\n"
     ]
    }
   ],
   "source": [
    "#큰 따옴표 출력\n",
    "print('\"안녕하세영\"')\n",
    "#작은 따옴표 출력\n",
    "print(\"'hi'\")\n",
    "#\\ 사용\n",
    "print(\"\\\"hello\\\"\")"
   ]
  },
  {
   "attachments": {},
   "cell_type": "markdown",
   "metadata": {},
   "source": [
    "# 문자열"
   ]
  },
  {
   "attachments": {},
   "cell_type": "markdown",
   "metadata": {},
   "source": [
    "### 문자열 (string)"
   ]
  },
  {
   "cell_type": "code",
   "execution_count": 3,
   "metadata": {},
   "outputs": [
    {
     "name": "stdout",
     "output_type": "stream",
     "text": [
      "seoul\n"
     ]
    }
   ],
   "source": [
    "city = \"seoul\" # city라는 변수에 서울을 할당\n",
    "print(city)"
   ]
  },
  {
   "cell_type": "code",
   "execution_count": 2,
   "metadata": {},
   "outputs": [
    {
     "name": "stdout",
     "output_type": "stream",
     "text": [
      "서울 중구\n",
      "서울 중구\n"
     ]
    }
   ],
   "source": [
    "city.upper()\n",
    "print(city.upper())\n",
    "print(city.lower())"
   ]
  },
  {
   "cell_type": "code",
   "execution_count": 5,
   "metadata": {},
   "outputs": [
    {
     "name": "stdout",
     "output_type": "stream",
     "text": [
      "SEOUL\n"
     ]
    }
   ],
   "source": [
    "city= city.upper()\n",
    "print(city)"
   ]
  },
  {
   "cell_type": "code",
   "execution_count": 6,
   "metadata": {},
   "outputs": [
    {
     "name": "stdout",
     "output_type": "stream",
     "text": [
      "seoul\n"
     ]
    }
   ],
   "source": [
    "city = city.lower()\n",
    "print(city)"
   ]
  },
  {
   "cell_type": "code",
   "execution_count": 12,
   "metadata": {},
   "outputs": [
    {
     "name": "stdout",
     "output_type": "stream",
     "text": [
      "developer    \n",
      "developer\n"
     ]
    }
   ],
   "source": [
    "occupation = \"developer    \"#공백은 문자로 취급\n",
    "print(occupation)\n",
    "#\"developer\" #위에 developer와는 다른 것\n",
    "occupation.rstrip()\n",
    "print(occupation.rstrip())"
   ]
  },
  {
   "cell_type": "code",
   "execution_count": 11,
   "metadata": {},
   "outputs": [
    {
     "name": "stdout",
     "output_type": "stream",
     "text": [
      "developer    \n"
     ]
    }
   ],
   "source": [
    "occupation.lstrip() #왼쪽 공백 지우기\n",
    "print(occupation.lstrip())"
   ]
  },
  {
   "cell_type": "code",
   "execution_count": 17,
   "metadata": {},
   "outputs": [
    {
     "name": "stdout",
     "output_type": "stream",
     "text": [
      "INFP ENFP ESTJ\n",
      "INFP\n",
      "ENFP\n",
      "ESTJ\n",
      "INFP\tENFP\tESTJ\n"
     ]
    }
   ],
   "source": [
    "#공백을 입력하는 경우\n",
    "print(\"INFP ENFP ESTJ\")\n",
    "print(\"INFP\\nENFP\\nESTJ\")\n",
    "print(\"INFP\\tENFP\\tESTJ\") "
   ]
  },
  {
   "cell_type": "code",
   "execution_count": 20,
   "metadata": {},
   "outputs": [
    {
     "name": "stdout",
     "output_type": "stream",
     "text": [
      "90\n",
      "75\n"
     ]
    }
   ],
   "source": [
    "score =\"점수:90\" # 숫자만 나오게 하고 싶은데 어떻게 처리?\n",
    "print(score.removeprefix(\"점수:\"))\n",
    "score_2 = \"75점\"\n",
    "print(score_2.removesuffix(\"점\"))"
   ]
  },
  {
   "cell_type": "code",
   "execution_count": 1,
   "metadata": {},
   "outputs": [
    {
     "name": "stdout",
     "output_type": "stream",
     "text": [
      "서울시 중구\n"
     ]
    }
   ],
   "source": [
    "city = \"서울 중구\" #서울시 중구로 바꾸고 싶다\n",
    "print(city.replace(\"서울\",\"서울시\"))\n",
    "\n"
   ]
  },
  {
   "attachments": {},
   "cell_type": "markdown",
   "metadata": {},
   "source": [
    "# 문자열 f string"
   ]
  },
  {
   "cell_type": "markdown",
   "metadata": {},
   "source": []
  },
  {
   "cell_type": "code",
   "execution_count": 9,
   "metadata": {},
   "outputs": [
    {
     "name": "stdout",
     "output_type": "stream",
     "text": [
      "ratio of 10 and 3 is 3.3333333333333335\n",
      "나는 행복 합니다\n"
     ]
    }
   ],
   "source": [
    "a = 10\n",
    "b = 3\n",
    "print(f\"ratio of {a} and {b} is {a/b}\")\n",
    "\n",
    "aa = \"행복\"\n",
    "print(f\"나는 {aa} 합니다\")"
   ]
  },
  {
   "cell_type": "code",
   "execution_count": 13,
   "metadata": {},
   "outputs": [
    {
     "name": "stdout",
     "output_type": "stream",
     "text": [
      "서울시 종로구\n"
     ]
    }
   ],
   "source": [
    "si = \"용인\"\n",
    "gu = \"기흥\"\n",
    "si_2 = \"서울\"\n",
    "gu_2 = \"종로\"\n",
    "address_1 = f\"{si_2}시 {gu_2}구\"\n",
    "print(address_1)\n",
    "\n",
    "\n",
    "#print(f\"{si}시 {gu}구\")\n",
    "#print(f\"{si_2}시 {gu_2}구\")\n",
    "#서울시 종로구\n",
    "#용인시 기흥구\n"
   ]
  },
  {
   "attachments": {},
   "cell_type": "markdown",
   "metadata": {},
   "source": [
    "# 숫자 데이터"
   ]
  },
  {
   "cell_type": "code",
   "execution_count": 21,
   "metadata": {},
   "outputs": [
    {
     "name": "stdout",
     "output_type": "stream",
     "text": [
      "5\n",
      "-1\n",
      "6\n",
      "8\n",
      "0.6666666666666666\n",
      "0\n",
      "2\n",
      "15\n",
      "11\n"
     ]
    }
   ],
   "source": [
    "a = 2\n",
    "b = 3\n",
    "\n",
    "print(a+b)\n",
    "print(a-b)\n",
    "print(a*b)\n",
    "print(a**b) # 2가 밑 3이 지수\n",
    "print(a/b) #나누기\n",
    "print(a//b) #몫\n",
    "print(a%b) #나머지 \n",
    "\n",
    "print((a+b)*b)\n",
    "print(a+b*b)"
   ]
  },
  {
   "attachments": {},
   "cell_type": "markdown",
   "metadata": {},
   "source": [
    "### 실수(Float) - 십진 부동 소수점"
   ]
  },
  {
   "cell_type": "code",
   "execution_count": 24,
   "metadata": {},
   "outputs": [
    {
     "name": "stdout",
     "output_type": "stream",
     "text": [
      "0.8999999999999999\n",
      "0.3\n",
      "0.18\n",
      "2.0\n",
      "1.6\n",
      "-0.4\n",
      "0.6\n",
      "0.6\n"
     ]
    }
   ],
   "source": [
    "x = 0.6\n",
    "y = 0.3\n",
    "z = 1\n",
    "\n",
    "print(x+y) #컴퓨터는 2진수로! 그래서 근사치 계산\n",
    "print(x-y)\n",
    "print(x*y)\n",
    "print(x/y)\n",
    "\n",
    "print(x+z)\n",
    "print(x-z)\n",
    "print(x*z)\n",
    "print(x/z)\n",
    "\n",
    "#정수와 실수의 계산에서는 결과가 실수가 나옴"
   ]
  },
  {
   "cell_type": "code",
   "execution_count": 16,
   "metadata": {},
   "outputs": [
    {
     "data": {
      "text/plain": [
       "8"
      ]
     },
     "execution_count": 16,
     "metadata": {},
     "output_type": "execute_result"
    }
   ],
   "source": [
    "pow(2,3) #제곱"
   ]
  },
  {
   "cell_type": "code",
   "execution_count": 19,
   "metadata": {},
   "outputs": [
    {
     "data": {
      "text/plain": [
       "(3, 1)"
      ]
     },
     "execution_count": 19,
     "metadata": {},
     "output_type": "execute_result"
    }
   ],
   "source": [
    "divmod(7,2) #내장 함수로 나눗셈"
   ]
  },
  {
   "attachments": {},
   "cell_type": "markdown",
   "metadata": {},
   "source": [
    "### 큰수"
   ]
  },
  {
   "cell_type": "code",
   "execution_count": 26,
   "metadata": {},
   "outputs": [
    {
     "name": "stdout",
     "output_type": "stream",
     "text": [
      "123490000000000\n"
     ]
    }
   ],
   "source": [
    "price = 12_349000_000_0000 # 조금 더 식별하기 쉽게\n",
    "#price = 123490000000000\n",
    "print(price)\n"
   ]
  },
  {
   "cell_type": "code",
   "execution_count": 29,
   "metadata": {},
   "outputs": [
    {
     "name": "stdout",
     "output_type": "stream",
     "text": [
      "3.141592\n",
      "1.232323\n"
     ]
    }
   ],
   "source": [
    "# 상수(contants 한번 선언된 데이터 공간에 다른 데이터가 못 들어옴)\n",
    "PI = 3.141592 #식별자로 상수\n",
    "pi = 1.232323\n",
    "print(PI)\n",
    "print(pi)"
   ]
  },
  {
   "attachments": {},
   "cell_type": "markdown",
   "metadata": {},
   "source": [
    "# 문자열-숫자 간 변환"
   ]
  },
  {
   "cell_type": "code",
   "execution_count": 33,
   "metadata": {},
   "outputs": [
    {
     "name": "stdout",
     "output_type": "stream",
     "text": [
      "100\n",
      "100\n",
      "\"100\"\n",
      "0.453\n"
     ]
    }
   ],
   "source": [
    "a = 100 # 숫자\n",
    "b = \"100\" # 문자열\n",
    "# 컴퓨터는 어떻게 이해할까? 동일한 데이터로 인식 X\n",
    "c = '\"100\"'\n",
    "d = \"0.453\"\n",
    "a = str(a) # 문자열로 변환\n",
    "b = int(b) # 숫자로 변환\n",
    "d = float(d)\n",
    "print(a)\n",
    "print(b)\n",
    "print(c)\n",
    "print(d)\n"
   ]
  },
  {
   "attachments": {},
   "cell_type": "markdown",
   "metadata": {},
   "source": [
    "# 논리형(Bool, Boolean)"
   ]
  },
  {
   "cell_type": "code",
   "execution_count": 45,
   "metadata": {},
   "outputs": [
    {
     "name": "stdout",
     "output_type": "stream",
     "text": [
      "True\n",
      "False\n",
      "True\n",
      "True\n",
      "False\n"
     ]
    },
    {
     "name": "stderr",
     "output_type": "stream",
     "text": [
      "<>:9: SyntaxWarning: \"is\" with a literal. Did you mean \"==\"?\n",
      "<>:9: SyntaxWarning: \"is\" with a literal. Did you mean \"==\"?\n",
      "C:\\Users\\lim78\\AppData\\Local\\Temp\\ipykernel_17036\\525125342.py:9: SyntaxWarning: \"is\" with a literal. Did you mean \"==\"?\n",
      "  print( 3 is 3.0)\n"
     ]
    }
   ],
   "source": [
    "#대문자로 시작하는 키워드\n",
    "#True\n",
    "#False\n",
    "\n",
    "print(3 > 2)\n",
    "print(3 == 2) # =은 할당\n",
    "print(3 == 3)\n",
    "print( 3 == 3.0) \n",
    "print( 3 is 3.0) # type을 본다"
   ]
  },
  {
   "cell_type": "code",
   "execution_count": 41,
   "metadata": {},
   "outputs": [
    {
     "name": "stdout",
     "output_type": "stream",
     "text": [
      "True\n"
     ]
    }
   ],
   "source": [
    "a = input(\"이름이 뭐야?\")\n",
    "sunglim == True\n",
    "if a == \"sunglim\":\n",
    "    print(True)\n",
    "else:\n",
    "    print(False)"
   ]
  },
  {
   "attachments": {},
   "cell_type": "markdown",
   "metadata": {},
   "source": [
    "# 명령 프롬프트(prompt)"
   ]
  },
  {
   "cell_type": "code",
   "execution_count": 50,
   "metadata": {},
   "outputs": [
    {
     "name": "stdout",
     "output_type": "stream",
     "text": [
      "ㅎㅇㅎㅇㅇㅎ\n"
     ]
    }
   ],
   "source": [
    "#터미널, input()함수 사용\n",
    "a = input(\"안녕하세요?>>\") # dd 입력\n",
    "print(a)\n",
    "\n"
   ]
  },
  {
   "attachments": {},
   "cell_type": "markdown",
   "metadata": {},
   "source": [
    "## 주석 (comments)"
   ]
  },
  {
   "attachments": {},
   "cell_type": "markdown",
   "metadata": {},
   "source": [
    "### 한 줄 주석/ 여러 줄 주석\n",
    "### 여러 줄 주석?"
   ]
  },
  {
   "attachments": {},
   "cell_type": "markdown",
   "metadata": {},
   "source": [
    "# 응용"
   ]
  },
  {
   "cell_type": "code",
   "execution_count": 56,
   "metadata": {},
   "outputs": [
    {
     "name": "stdout",
     "output_type": "stream",
     "text": [
      "1:아이스 아메리카노 1,800원\n",
      "2:카페라떼 2,700원\n",
      "3:핫초코 2,300원\n",
      "10000원을 받았습니다. 거스름돈은800원 입니다.또 방문해주세용\n"
     ]
    }
   ],
   "source": [
    "#커피 계산\n",
    "print(\"1:아이스 아메리카노 1,800원\\n\" \"2:카페라떼 2,700원\\n\" \"3:핫초코 2,300원\")\n",
    "coffee_price = 0 # 커피가격 변수\n",
    "order = int(input(\"커피 종류를 선택하세요. 번호 입력>>>\"))\n",
    "if order == 1:\n",
    "    coffee_price = 1800\n",
    "elif order == 2:\n",
    "    coffee_price = 2700\n",
    "elif order == 3:\n",
    "    coffee_price = 2300\n",
    "#그 다음은 몇잔을 주문할지\n",
    "cups = int(input(\"몇 잔을 드릴까요? >>>\"))\n",
    "total_price = coffee_price * cups\n",
    "\n",
    "received = int(input(f\"총 금액은 {total_price}원 입니다. 돈을 투입해주세요(카드x) >>>\"))\n",
    "if received >= total_price:\n",
    "    change = received-total_price\n",
    "    a = \"또 방문해주세용\" \n",
    "    print(f\"{received}원을 받았습니다. 거스름돈은{change}원 입니다.{a}\")\n",
    "else:\n",
    "    print(\"금액이 부족합니다. 나가주세요\")\n",
    "    "
   ]
  },
  {
   "cell_type": "code",
   "execution_count": 58,
   "metadata": {},
   "outputs": [
    {
     "name": "stdout",
     "output_type": "stream",
     "text": [
      "1:아이스 아메리카노  1,500\n",
      "2:허니자몽블랙티  3,500\n",
      "3.얼그레이 3,000\n",
      "10000원을 받았습니다. 거스름돈은 3000 입니다.또 방문해주세요\n"
     ]
    }
   ],
   "source": [
    "# 성림스의 카페\n",
    "print(\"1:아이스 아메리카노  1,500\\n\" \"2:허니자몽블랙티  3,500\\n\" \"3.얼그레이 3,000\")\n",
    "coffee_price = 0\n",
    "order = int(input(\"음료 주문을 선택해주세요! 번호 입력>>>\"))\n",
    "if order == 1:\n",
    "    coffee_price = 1800\n",
    "elif order == 2:\n",
    "    coffee_price = 3500\n",
    "elif order == 3:\n",
    "    coffee_price = 3000\n",
    "cups = int(input(\"몇잔을 주문하시겠어요? >>>\"))\n",
    "total_price = coffee_price*cups\n",
    "a = \"카드\"\n",
    "\n",
    "received = int(input(f\"총 금액은 {total_price} 입니다.현금을 투입해주세요{a}는 안됩니다 ㅎㅎ>>> \"))\n",
    "if received >= total_price:\n",
    "    change = received - total_price\n",
    "    come = \"또 방문해주세요\"\n",
    "    print(f\"{received}원을 받았습니다. 거스름돈은 {change} 입니다.{come}\")\n",
    "else:\n",
    "    print(\"나가주세요\")\n"
   ]
  },
  {
   "attachments": {},
   "cell_type": "markdown",
   "metadata": {},
   "source": [
    "# 배열"
   ]
  },
  {
   "cell_type": "code",
   "execution_count": 3,
   "metadata": {},
   "outputs": [
    {
     "name": "stdout",
     "output_type": "stream",
     "text": [
      "[0, 1, 2, 3, 4]\n"
     ]
    }
   ],
   "source": [
    "a = []\n",
    "for x in range(0,5):\n",
    "    a.append(x)\n",
    "print(a)"
   ]
  },
  {
   "cell_type": "code",
   "execution_count": 4,
   "metadata": {},
   "outputs": [
    {
     "name": "stdout",
     "output_type": "stream",
     "text": [
      "[0, 1, 2, 3, 4]\n"
     ]
    }
   ],
   "source": [
    "a=[x for x in range(0,5)]\n",
    "print(a)"
   ]
  },
  {
   "cell_type": "code",
   "execution_count": 10,
   "metadata": {},
   "outputs": [
    {
     "name": "stdout",
     "output_type": "stream",
     "text": [
      "3\n"
     ]
    }
   ],
   "source": [
    "array = [1,2,3,4,5]\n",
    "array.sort()\n",
    "m_edian = len(array)//2\n",
    "print(array[m_edian])"
   ]
  },
  {
   "cell_type": "code",
   "execution_count": 11,
   "metadata": {},
   "outputs": [
    {
     "data": {
      "text/plain": [
       "7"
      ]
     },
     "execution_count": 11,
     "metadata": {},
     "output_type": "execute_result"
    }
   ],
   "source": [
    "a = [1,2,3,4,5,6,7]\n",
    "len(a)"
   ]
  },
  {
   "cell_type": "code",
   "execution_count": 12,
   "metadata": {},
   "outputs": [
    {
     "data": {
      "text/plain": [
       "2"
      ]
     },
     "execution_count": 12,
     "metadata": {},
     "output_type": "execute_result"
    }
   ],
   "source": [
    "5//2"
   ]
  },
  {
   "cell_type": "code",
   "execution_count": 3,
   "metadata": {},
   "outputs": [
    {
     "data": {
      "text/plain": [
       "(4, 1)"
      ]
     },
     "execution_count": 3,
     "metadata": {},
     "output_type": "execute_result"
    }
   ],
   "source": [
    "divmod(9,2)"
   ]
  },
  {
   "cell_type": "code",
   "execution_count": 8,
   "metadata": {},
   "outputs": [
    {
     "name": "stdout",
     "output_type": "stream",
     "text": [
      "5.5\n"
     ]
    }
   ],
   "source": [
    "a = [1,2,3,4,5,6,7,8,9,10]\n",
    "my_sum = 0\n",
    "\n",
    "for i in a:\n",
    "    my_sum += i\n",
    "print(my_sum/len(a))"
   ]
  },
  {
   "cell_type": "code",
   "execution_count": 9,
   "metadata": {},
   "outputs": [
    {
     "name": "stdout",
     "output_type": "stream",
     "text": [
      "94.0\n"
     ]
    }
   ],
   "source": [
    "a = [89,90,91,92,93,94,95,96,97,98,99]\n",
    "my_sum = 0\n",
    "\n",
    "for i in a:\n",
    "    my_sum += i\n",
    "print(my_sum/len(a))"
   ]
  },
  {
   "cell_type": "code",
   "execution_count": 10,
   "metadata": {},
   "outputs": [
    {
     "name": "stdout",
     "output_type": "stream",
     "text": [
      "12\n"
     ]
    }
   ],
   "source": [
    "a = [1,2,3,4,5,6]\n",
    "my_sum = 0\n",
    "\n",
    "for i in a:\n",
    "    if i % 2 == 0:\n",
    "        my_sum +=i\n",
    "print(my_sum)"
   ]
  },
  {
   "cell_type": "code",
   "execution_count": 13,
   "metadata": {},
   "outputs": [
    {
     "name": "stdout",
     "output_type": "stream",
     "text": [
      "120\n"
     ]
    }
   ],
   "source": [
    "a = [1,2,3,4,5]\n",
    "my_multi = 1\n",
    "i = 0\n",
    "\n",
    "while i < len(a):\n",
    "    my_multi *= a[i]\n",
    "    i+=1\n",
    "print(my_multi)\n"
   ]
  },
  {
   "cell_type": "code",
   "execution_count": null,
   "metadata": {},
   "outputs": [],
   "source": []
  },
  {
   "cell_type": "code",
   "execution_count": 14,
   "metadata": {},
   "outputs": [
    {
     "name": "stdout",
     "output_type": "stream",
     "text": [
      "55\n"
     ]
    }
   ],
   "source": [
    "# 배열의 합(홀수,짝수),곱 while 로 구현\n",
    "a = [1,2,3,4,5,6,7,8,9,10]\n",
    "my_sum = 0\n",
    "for i in a:\n",
    "    my_sum += i\n",
    "print(my_sum) "
   ]
  },
  {
   "cell_type": "code",
   "execution_count": 18,
   "metadata": {},
   "outputs": [
    {
     "name": "stdout",
     "output_type": "stream",
     "text": [
      "30\n",
      "40320\n"
     ]
    }
   ],
   "source": [
    "a = [1,2,3,4,5,6,7,8,9,10]\n",
    "my_sum = 0\n",
    "for i in a:\n",
    "    if  i % 2 == 0:\n",
    "        my_sum +=i\n",
    "print(my_sum)\n",
    "\n",
    "b = [2,3,4,5,6,7,8]\n",
    "my_multi = 1\n",
    "i = 0\n",
    "while i < len(b):\n",
    "    my_multi *= b[i] \n",
    "    i += 1\n",
    "print(my_multi)"
   ]
  },
  {
   "cell_type": "code",
   "execution_count": 20,
   "metadata": {},
   "outputs": [
    {
     "data": {
      "text/plain": [
       "8"
      ]
     },
     "execution_count": 20,
     "metadata": {},
     "output_type": "execute_result"
    }
   ],
   "source": [
    "a = [1,2,3,4,5,6,7,8]\n",
    "len(a)"
   ]
  },
  {
   "cell_type": "code",
   "execution_count": 11,
   "metadata": {},
   "outputs": [
    {
     "name": "stdout",
     "output_type": "stream",
     "text": [
      "배열의 합은 21입니다. 하지만 배열의 평균은 3.5\n"
     ]
    }
   ],
   "source": [
    "a = [1,2,3,4,5,6]\n",
    "my_sum = sum(a)\n",
    "print(f\"배열의 합은 {my_sum}입니다. 하지만 배열의 평균은 {my_sum/len(a)}\")"
   ]
  },
  {
   "attachments": {},
   "cell_type": "markdown",
   "metadata": {},
   "source": [
    "# 조건문"
   ]
  },
  {
   "cell_type": "code",
   "execution_count": 3,
   "metadata": {},
   "outputs": [
    {
     "name": "stdout",
     "output_type": "stream",
     "text": [
      "False\n"
     ]
    }
   ],
   "source": [
    "# if 중괄호가 아닌 : ,들여쓰기 중요\n",
    "if False:\n",
    "    print(\"True\") #조건식이 True를 만족시키지 않았기 때문에 False 출력\n",
    "else:\n",
    "    print(\"False\")"
   ]
  },
  {
   "cell_type": "code",
   "execution_count": 4,
   "metadata": {},
   "outputs": [
    {
     "name": "stdout",
     "output_type": "stream",
     "text": [
      "a\n"
     ]
    }
   ],
   "source": [
    "if 4>3:\n",
    "    print(\"a\")\n",
    "else:\n",
    "    print(\"b\")"
   ]
  },
  {
   "cell_type": "code",
   "execution_count": 6,
   "metadata": {},
   "outputs": [
    {
     "name": "stdout",
     "output_type": "stream",
     "text": [
      "A\n"
     ]
    }
   ],
   "source": [
    "value = int(input(\"값을 입력해주세요:\"))   # >는 Str에 사용 x , 그냥 input을 하게 되면 string 타입으로 처리\n",
    "\n",
    "if value > 10:\n",
    "    print(\"A\")\n",
    "else:\n",
    "    print(\"b\")"
   ]
  },
  {
   "cell_type": "code",
   "execution_count": 53,
   "metadata": {},
   "outputs": [
    {
     "name": "stdout",
     "output_type": "stream",
     "text": [
      "b\n"
     ]
    }
   ],
   "source": [
    "value = input(\"값을 입력해주세요:\")   # >는 Str에 사용 x , 그냥 input을 하게 되면 string 타입으로 처리\n",
    "\n",
    "if int(value) > 10:\n",
    "    print(\"A\")\n",
    "else:\n",
    "    print(\"b\")"
   ]
  },
  {
   "cell_type": "code",
   "execution_count": 11,
   "metadata": {},
   "outputs": [
    {
     "name": "stdout",
     "output_type": "stream",
     "text": [
      "ENFJ\n"
     ]
    }
   ],
   "source": [
    "value = input(\"값을 입력해주세요:\")\n",
    "value = value.upper()\n",
    "\n",
    "if value == \"ENFJ\":\n",
    "    print(\"ENFJ\")\n",
    "else:\n",
    "    print(\"nothing\")"
   ]
  },
  {
   "attachments": {},
   "cell_type": "markdown",
   "metadata": {},
   "source": [
    "# 조건문 2 \n",
    "### elif 다중조건"
   ]
  },
  {
   "cell_type": "code",
   "execution_count": 27,
   "metadata": {},
   "outputs": [
    {
     "name": "stdout",
     "output_type": "stream",
     "text": [
      "연장영업\n"
     ]
    }
   ],
   "source": [
    "day = input(\"요일을 입력해주세요(0~6): \")\n",
    "\n",
    "if day == \"0\":\n",
    "    print(\"휴무\")\n",
    "elif day == \"6\":\n",
    "    print(\"출근\")\n",
    "elif day == \"5\":\n",
    "    print(\"연장영업\")\n",
    "else:\n",
    "    print(\"퇴근\")"
   ]
  },
  {
   "cell_type": "code",
   "execution_count": 28,
   "metadata": {},
   "outputs": [
    {
     "name": "stdout",
     "output_type": "stream",
     "text": [
      "tlqkf\n"
     ]
    }
   ],
   "source": [
    "# 연습 학교가는 날 만들기\n",
    "deung_gyo = input(\"언제 학교에 가세요?(0~5) : \")\n",
    "if deung_gyo =='0':\n",
    "    print(\"안 다니세요?\")\n",
    "elif deung_gyo <= \"5\":\n",
    "    print(\"열심히 다니네요\")\n",
    "else:\n",
    "    print(\"tlqkf\")"
   ]
  },
  {
   "attachments": {},
   "cell_type": "markdown",
   "metadata": {},
   "source": [
    "# 반복문 (loop)"
   ]
  },
  {
   "cell_type": "code",
   "execution_count": 34,
   "metadata": {},
   "outputs": [
    {
     "name": "stdout",
     "output_type": "stream",
     "text": [
      "5050\n"
     ]
    }
   ],
   "source": [
    "i = 0 # i라는 변수에 초기화, 초기값\n",
    "my_sum = 0\n",
    "#for i in range(1,101):      #1이상 101미만\n",
    "#    print(i)\n",
    "\n",
    "\n",
    "for i in range(1,101):\n",
    "    my_sum += i\n",
    "    #my_sum = my_sum + i\n",
    "print(my_sum)\n",
    "\n"
   ]
  },
  {
   "cell_type": "code",
   "execution_count": 48,
   "metadata": {},
   "outputs": [
    {
     "name": "stdout",
     "output_type": "stream",
     "text": [
      "20보다 큰 리스트 4320보다 큰 리스트 5620보다 큰 리스트 12320보다 큰 리스트 3434"
     ]
    }
   ],
   "source": [
    "a = [1,2,3,43,56,11,123,3434]\n",
    "a.sort()\n",
    "for i in a:\n",
    "    if i > 20:\n",
    "        print(f\"20보다 큰 리스트 {i}\",end ='')"
   ]
  },
  {
   "cell_type": "code",
   "execution_count": null,
   "metadata": {},
   "outputs": [],
   "source": [
    "#while True:\n",
    " #   print(\"while loop\")"
   ]
  },
  {
   "cell_type": "code",
   "execution_count": 40,
   "metadata": {},
   "outputs": [
    {
     "name": "stdout",
     "output_type": "stream",
     "text": [
      "1% completed\n",
      "2% completed\n",
      "3% completed\n",
      "4% completed\n",
      "5% completed\n",
      "6% completed\n",
      "7% completed\n",
      "8% completed\n",
      "9% completed\n",
      "10% completed\n",
      "11% completed\n",
      "12% completed\n",
      "13% completed\n",
      "14% completed\n",
      "15% completed\n",
      "16% completed\n",
      "17% completed\n",
      "18% completed\n",
      "19% completed\n",
      "20% completed\n",
      "21% completed\n",
      "22% completed\n",
      "23% completed\n",
      "24% completed\n",
      "25% completed\n",
      "26% completed\n",
      "27% completed\n",
      "28% completed\n",
      "29% completed\n",
      "30% completed\n",
      "31% completed\n",
      "32% completed\n",
      "33% completed\n",
      "34% completed\n",
      "35% completed\n",
      "36% completed\n",
      "37% completed\n",
      "38% completed\n",
      "39% completed\n",
      "40% completed\n",
      "41% completed\n",
      "42% completed\n",
      "43% completed\n",
      "44% completed\n",
      "45% completed\n",
      "46% completed\n",
      "47% completed\n",
      "48% completed\n",
      "49% completed\n",
      "50% completed\n",
      "51% completed\n",
      "52% completed\n",
      "53% completed\n",
      "54% completed\n",
      "55% completed\n",
      "56% completed\n",
      "57% completed\n",
      "58% completed\n",
      "59% completed\n",
      "60% completed\n",
      "61% completed\n",
      "62% completed\n",
      "63% completed\n",
      "64% completed\n",
      "65% completed\n",
      "66% completed\n",
      "67% completed\n",
      "68% completed\n",
      "69% completed\n",
      "70% completed\n",
      "71% completed\n",
      "72% completed\n",
      "73% completed\n",
      "74% completed\n",
      "75% completed\n",
      "76% completed\n",
      "77% completed\n",
      "78% completed\n",
      "79% completed\n",
      "80% completed\n",
      "81% completed\n",
      "82% completed\n",
      "83% completed\n",
      "84% completed\n",
      "85% completed\n",
      "86% completed\n",
      "87% completed\n",
      "88% completed\n",
      "89% completed\n",
      "90% completed\n",
      "91% completed\n",
      "92% completed\n",
      "93% completed\n",
      "94% completed\n",
      "95% completed\n",
      "96% completed\n",
      "97% completed\n",
      "98% completed\n",
      "99% completed\n",
      "100% completed\n"
     ]
    }
   ],
   "source": [
    "progress = 0\n",
    "\n",
    "while progress < 100:\n",
    "    #progress = progress + 1\n",
    "    progress += 1\n",
    "    print(f\"{progress}% completed\")"
   ]
  },
  {
   "attachments": {},
   "cell_type": "markdown",
   "metadata": {},
   "source": [
    "# 리스트  []"
   ]
  },
  {
   "cell_type": "code",
   "execution_count": 51,
   "metadata": {},
   "outputs": [
    {
     "name": "stdout",
     "output_type": "stream",
     "text": [
      "['서울', '전주', '대전', '원주']\n",
      "대전\n",
      "['대구', '전주', '대전', '원주']\n",
      "['대구', '전주', '대전', '원주', '광주']\n"
     ]
    }
   ],
   "source": [
    "city = [\"서울\",\"전주\",\"대전\",\"원주\"]\n",
    "print(city)\n",
    "print(city[2]) #인덱싱\n",
    "\n",
    "city [0] = \"대구\"\n",
    "print(city)\n",
    "\n",
    "city.append(\"광주\")\n",
    "print(city)"
   ]
  },
  {
   "cell_type": "code",
   "execution_count": 52,
   "metadata": {},
   "outputs": [
    {
     "name": "stdout",
     "output_type": "stream",
     "text": [
      "[123, 'apple']\n"
     ]
    }
   ],
   "source": [
    "my_list = [123,'apple']\n",
    "print(my_list)"
   ]
  },
  {
   "cell_type": "code",
   "execution_count": 59,
   "metadata": {},
   "outputs": [
    {
     "name": "stdout",
     "output_type": "stream",
     "text": [
      "['red', 'yellow', 'blue', 'green']\n"
     ]
    }
   ],
   "source": [
    "# 리스트 데이터 접근 및 조작\n",
    "\n",
    "colors = ['red','blue','green']\n",
    "\n",
    "# 수정\n",
    "#colors[2] = 'black'\n",
    "#print(colors)\n",
    "\n",
    "# 추가 1\n",
    "# colors.append('purple')\n",
    "# print(colors)\n",
    "\n",
    "# 추가 2 \n",
    "colors.insert(1,'yellow')\n",
    "print(colors) # 뒤에 있는 것들은 밀린다. "
   ]
  },
  {
   "cell_type": "code",
   "execution_count": 95,
   "metadata": {},
   "outputs": [
    {
     "name": "stdout",
     "output_type": "stream",
     "text": [
      "[1, 2, 3, 4, 5, 6, 7, 8]\n"
     ]
    }
   ],
   "source": [
    "a = [1,2,3,4,5,6,7]\n",
    "\n",
    "a.append(8)\n",
    "print(a)\n"
   ]
  },
  {
   "cell_type": "code",
   "execution_count": 56,
   "metadata": {},
   "outputs": [
    {
     "name": "stdout",
     "output_type": "stream",
     "text": [
      "[1, 11, 3, 4, 5, 6, 7, 8]\n"
     ]
    }
   ],
   "source": [
    "a = [1,2,3,4,5,6,7,8]\n",
    "a[1] = 11\n",
    "print(a)"
   ]
  },
  {
   "cell_type": "code",
   "execution_count": 65,
   "metadata": {},
   "outputs": [
    {
     "name": "stdout",
     "output_type": "stream",
     "text": [
      "['blue', 'green']\n",
      "[2, 3, 4, 5]\n",
      "1\n",
      "['blue', 'green']\n",
      "red\n",
      "['red', 'green']\n"
     ]
    }
   ],
   "source": [
    "# 제거 1\n",
    "colors = ['red','blue','green'] \n",
    "del colors[0]\n",
    "print(colors)\n",
    "\n",
    "# 제거 2 pop 반환가능\n",
    "a = [1,2,3,4,5]\n",
    "b=a.pop(0)\n",
    "print(a)\n",
    "print(b)\n",
    "colors = ['red','blue','green']\n",
    "color = colors.pop(0)\n",
    "print(colors)\n",
    "print(color)\n",
    "# 제거 3 remove\n",
    "colors = ['red','blue','green']\n",
    "colors.remove('blue')\n",
    "print(colors)"
   ]
  },
  {
   "attachments": {},
   "cell_type": "markdown",
   "metadata": {},
   "source": [
    "# 리스트 정렬"
   ]
  },
  {
   "cell_type": "code",
   "execution_count": 6,
   "metadata": {},
   "outputs": [
    {
     "name": "stdout",
     "output_type": "stream",
     "text": [
      "['black', 'blue', 'gray', 'orange', 'red', 'yellow']\n"
     ]
    }
   ],
   "source": [
    "colors = ['blue','red','gray','black','yellow','orange']\n",
    "#처리되는 방식 주의\n",
    "# 정렬 1\n",
    "#colors.sort()  # 원본데이터를 변경해버림 밑에 코드에는 변경된 코드로 나온다 만약 잠시 빌려 써준다면?\n",
    "#print(colors)\n",
    "\n",
    "#colors.sort(reverse=True) # 역순으로 출력\n",
    "#print(colors)\n",
    "\n",
    "#정렬 2\n",
    " # 영구적이 아닌 일시적으로\n",
    "print(sorted(colors))"
   ]
  },
  {
   "cell_type": "code",
   "execution_count": 7,
   "metadata": {},
   "outputs": [
    {
     "name": "stdout",
     "output_type": "stream",
     "text": [
      "6\n"
     ]
    }
   ],
   "source": [
    "# 리스트의 길이 요소의 갯수\n",
    "print(len(colors))"
   ]
  },
  {
   "cell_type": "code",
   "execution_count": 20,
   "metadata": {},
   "outputs": [
    {
     "name": "stdout",
     "output_type": "stream",
     "text": [
      "orange\n",
      "yellow\n"
     ]
    }
   ],
   "source": [
    "#print(colors[7]) # 존재하지 않는 인덱스 \n",
    "print(colors[-1]) # 중요\n",
    "print(colors[4])"
   ]
  },
  {
   "attachments": {},
   "cell_type": "markdown",
   "metadata": {},
   "source": [
    "# 리스트 슬라이싱"
   ]
  },
  {
   "cell_type": "code",
   "execution_count": 21,
   "metadata": {},
   "outputs": [
    {
     "name": "stdout",
     "output_type": "stream",
     "text": [
      "['red', 'gray', 'black', 'yellow']\n",
      "['red', 'gray', 'black', 'yellow']\n",
      "['blue', 'red', 'gray', 'black']\n",
      "['gray', 'black', 'yellow', 'orange']\n",
      "['blue', 'red', 'gray', 'black', 'yellow']\n",
      "['red', 'gray', 'black', 'yellow', 'orange']\n",
      "['blue', 'red', 'gray', 'black', 'yellow', 'orange']\n"
     ]
    }
   ],
   "source": [
    "colors = ['blue','red','gray','black','yellow','orange']\n",
    "print(colors[1:-1])\n",
    "print(colors[1:5])\n",
    "print(colors[:4])\n",
    "print(colors[2:])\n",
    "\n",
    "print(colors[:-1])\n",
    "print(colors[-5:])\n",
    "\n",
    "#copy\n",
    "#colors_2 = colors 의 문제점은? 기존의 할당된 공간에 저장됨 데이터의 문제가 생김\n",
    "colors_2 = colors[:] # 전체의 요소를 새로운 변수에 할당\n",
    "print(colors_2)"
   ]
  },
  {
   "cell_type": "code",
   "execution_count": 24,
   "metadata": {},
   "outputs": [
    {
     "name": "stdout",
     "output_type": "stream",
     "text": [
      "['blue', 'red', 'gray', 'black', 'yellow']\n",
      "['blue', 'red', 'gray', 'black', 'yellow', 'orange']\n"
     ]
    }
   ],
   "source": [
    "colors = ['blue','red','gray','black','yellow','orange']\n",
    "\n",
    "#colors_2 = colors\n",
    "colors_2 = colors[:]\n",
    "colors_2.pop()\n",
    "print(colors_2)\n",
    "print(colors)"
   ]
  },
  {
   "attachments": {},
   "cell_type": "markdown",
   "metadata": {},
   "source": [
    "# 리스트의 흐름제어"
   ]
  },
  {
   "cell_type": "code",
   "execution_count": 151,
   "metadata": {},
   "outputs": [
    {
     "name": "stdout",
     "output_type": "stream",
     "text": [
      "mmyy__ssttrriinngg\n"
     ]
    },
    {
     "data": {
      "text/plain": [
       "'hhii  mmyy  nnaammee  iiss  ssuunngglliimm'"
      ]
     },
     "execution_count": 151,
     "metadata": {},
     "output_type": "execute_result"
    }
   ],
   "source": [
    "a=\"my_string\"\n",
    "b = ''.join(i*2 for i in a)\n",
    "print(b)\n",
    "\n",
    "\n",
    "c = \"hi my name is sunglim\"\n",
    "d=''.join(i*2 for i in c)\n",
    "d"
   ]
  },
  {
   "cell_type": "code",
   "execution_count": 129,
   "metadata": {},
   "outputs": [
    {
     "data": {
      "text/plain": [
       "[1, 2, 3, 4, 5]"
      ]
     },
     "execution_count": 129,
     "metadata": {},
     "output_type": "execute_result"
    }
   ],
   "source": [
    "a = [x for x in range(1,6)]\n",
    "a"
   ]
  },
  {
   "cell_type": "code",
   "execution_count": 135,
   "metadata": {},
   "outputs": [
    {
     "name": "stdout",
     "output_type": "stream",
     "text": [
      "*\n",
      "**\n",
      "***\n"
     ]
    }
   ],
   "source": [
    "n = int(input())\n",
    "for i in range(1,n+1):\n",
    "    print (\"*\"*i, end = \"\\n\")"
   ]
  },
  {
   "cell_type": "code",
   "execution_count": 126,
   "metadata": {},
   "outputs": [
    {
     "name": "stdout",
     "output_type": "stream",
     "text": [
      "78\n"
     ]
    },
    {
     "data": {
      "text/plain": [
       "[88, 96]"
      ]
     },
     "execution_count": 126,
     "metadata": {},
     "output_type": "execute_result"
    }
   ],
   "source": [
    "scores = [88,100,96,43,65,78]\n",
    "print(scores[5])\n",
    "\n",
    "score = scores[0:4:2]\n",
    "score"
   ]
  },
  {
   "cell_type": "code",
   "execution_count": 121,
   "metadata": {},
   "outputs": [
    {
     "data": {
      "text/plain": [
       "[78, 65, 43, 96, 100, 88]"
      ]
     },
     "execution_count": 121,
     "metadata": {},
     "output_type": "execute_result"
    }
   ],
   "source": [
    "scores = [88,100,96,43,65,78]\n",
    "a = scores[::-1]\n",
    "a"
   ]
  },
  {
   "cell_type": "code",
   "execution_count": 31,
   "metadata": {},
   "outputs": [
    {
     "name": "stdout",
     "output_type": "stream",
     "text": [
      "100\n",
      "96\n",
      "88\n",
      "Fail\n",
      "Fail\n",
      "Fail\n"
     ]
    }
   ],
   "source": [
    "scores = [88,100,96,43,65,78]\n",
    "scores.sort(reverse = True) # 역순\n",
    "#print(scores)\n",
    "for score in scores:\n",
    "    if score >= 80:\n",
    "        print(score)\n",
    "    else:\n",
    "        print(\"Fail\")"
   ]
  },
  {
   "attachments": {},
   "cell_type": "markdown",
   "metadata": {},
   "source": [
    "# 리스트 최댓값/최솟값/총합"
   ]
  },
  {
   "cell_type": "code",
   "execution_count": 35,
   "metadata": {},
   "outputs": [
    {
     "name": "stdout",
     "output_type": "stream",
     "text": [
      "78.33333333333333\n",
      "470\n",
      "470\n"
     ]
    }
   ],
   "source": [
    "scores = [88,100,96,43,65,78]\n",
    "my_sum = 0\n",
    "max_val = max(scores)\n",
    "min_val = min(scores)\n",
    "sum_val = sum(scores)\n",
    "avg_val = sum(scores) / len(scores)\n",
    "print(avg_val)\n",
    "print(sum_val)\n",
    "for i in scores:\n",
    "    my_sum += i\n",
    "print(my_sum)"
   ]
  },
  {
   "cell_type": "code",
   "execution_count": 53,
   "metadata": {},
   "outputs": [
    {
     "name": "stdout",
     "output_type": "stream",
     "text": [
      "21\n"
     ]
    }
   ],
   "source": [
    "# while문의 리스트 합\n",
    "a = [1,2,3,4,5,6]\n",
    "my_sum = 0\n",
    "i = 0\n",
    "\n",
    "while i < len(a):\n",
    "    my_sum += a[i]\n",
    "    i +=1\n",
    "print(my_sum)"
   ]
  },
  {
   "cell_type": "code",
   "execution_count": 54,
   "metadata": {},
   "outputs": [
    {
     "name": "stdout",
     "output_type": "stream",
     "text": [
      "720\n"
     ]
    }
   ],
   "source": [
    "# while문의 리스트 곱\n",
    "a = [1,2,3,4,5,6]\n",
    "my_multi = 1\n",
    "i = 0\n",
    "\n",
    "while i < len(a):\n",
    "    my_multi *= a[i]\n",
    "    i += 1\n",
    "print(my_multi)\n"
   ]
  },
  {
   "cell_type": "code",
   "execution_count": 50,
   "metadata": {},
   "outputs": [
    {
     "name": "stdout",
     "output_type": "stream",
     "text": [
      "720\n"
     ]
    }
   ],
   "source": [
    "# 리스트의 곱\n",
    "a = [1,2,3,4,5,6]\n",
    "my_multi = 1\n",
    "i = 0\n",
    "for i in a:\n",
    "    my_multi *= i\n",
    "print(my_multi)\n"
   ]
  },
  {
   "cell_type": "code",
   "execution_count": 55,
   "metadata": {},
   "outputs": [
    {
     "name": "stdout",
     "output_type": "stream",
     "text": [
      "25\n"
     ]
    }
   ],
   "source": [
    "a = [1,2,3,4,5,6,7,8,9]  # 리스트의 홀수의 합\n",
    "my_sum = 0\n",
    "\n",
    "for i in a:\n",
    "    if i%2 == 1:\n",
    "        my_sum += i\n",
    "\n",
    "print(my_sum)\n",
    "    "
   ]
  },
  {
   "attachments": {},
   "cell_type": "markdown",
   "metadata": {},
   "source": [
    "# 튜플"
   ]
  },
  {
   "cell_type": "code",
   "execution_count": 39,
   "metadata": {},
   "outputs": [
    {
     "name": "stdout",
     "output_type": "stream",
     "text": [
      "1\n",
      "(100, 30, 4)\n"
     ]
    }
   ],
   "source": [
    "tup = (1,20,40)\n",
    "print(tup[0])\n",
    "tup = (100,30,4)\n",
    "print(tup)\n",
    "# tup[0] = 100 # 요소의 데이터를 변형 x "
   ]
  },
  {
   "attachments": {},
   "cell_type": "markdown",
   "metadata": {},
   "source": [
    "# 튜플/리스트 변환"
   ]
  },
  {
   "cell_type": "code",
   "execution_count": 40,
   "metadata": {},
   "outputs": [
    {
     "name": "stdout",
     "output_type": "stream",
     "text": [
      "1\n",
      "20\n",
      "40\n"
     ]
    }
   ],
   "source": [
    "tup = (1,20,40)\n",
    "\n",
    "for i in tup:\n",
    "    print(i)"
   ]
  },
  {
   "attachments": {},
   "cell_type": "markdown",
   "metadata": {},
   "source": [
    "## 중요"
   ]
  },
  {
   "cell_type": "code",
   "execution_count": 46,
   "metadata": {},
   "outputs": [
    {
     "name": "stdout",
     "output_type": "stream",
     "text": [
      "[1, 20, 40]\n",
      "[1, 20, 40]\n"
     ]
    }
   ],
   "source": [
    "tup = (1,20,40)\n",
    "\n",
    "#리스트로 변환하는 2가지 방법\n",
    "list_1 = list(tup)\n",
    "print(list_1)\n",
    "\n",
    "# 2\n",
    "list_2 = [x for x in tup]\n",
    "print(list_2)"
   ]
  },
  {
   "cell_type": "code",
   "execution_count": 45,
   "metadata": {},
   "outputs": [
    {
     "name": "stdout",
     "output_type": "stream",
     "text": [
      "[0, 1, 2, 3, 4, 5]\n"
     ]
    }
   ],
   "source": [
    "a = [x for x in range(0,6)]\n",
    "print(a)"
   ]
  },
  {
   "cell_type": "code",
   "execution_count": 47,
   "metadata": {},
   "outputs": [
    {
     "name": "stdout",
     "output_type": "stream",
     "text": [
      "[1, 20, 40]\n"
     ]
    }
   ],
   "source": [
    "# 리스트 변환 3\n",
    "list_3 = [ ]\n",
    "for  i in tup:\n",
    "    list_3.append(i)\n",
    "print(list_3)\n"
   ]
  },
  {
   "attachments": {},
   "cell_type": "markdown",
   "metadata": {},
   "source": [
    "# 딕셔너리 dic"
   ]
  },
  {
   "cell_type": "code",
   "execution_count": 58,
   "metadata": {},
   "outputs": [
    {
     "name": "stdout",
     "output_type": "stream",
     "text": [
      "123123123213123\n",
      "{'학생 1': '12312321321111111', 'major': 'cs', 'grade': 1}\n",
      "12312321321111111\n"
     ]
    }
   ],
   "source": [
    "student = {\"학생 1\" :\"123123123213123\",\n",
    "           \"major\":\"cs\",\n",
    "           \"grade\":1\n",
    "           }\n",
    "\n",
    "print(student[\"학생 1\"])\n",
    "\n",
    "student[\"학생 1\"] = \"12312321321111111\"  # 학번의 오류로 다시 수정하고 싶으면?\n",
    "print(student)\n",
    "print(student[\"학생 1\"])"
   ]
  },
  {
   "cell_type": "code",
   "execution_count": 113,
   "metadata": {},
   "outputs": [
    {
     "name": "stdout",
     "output_type": "stream",
     "text": [
      "[1, 2, 4, 5, 6, 7, 8, 9]\n"
     ]
    }
   ],
   "source": [
    "a = [1,2,3,4,5,6,7,8,9]\n",
    "a.remove(3)\n",
    "print(a)"
   ]
  },
  {
   "attachments": {},
   "cell_type": "markdown",
   "metadata": {},
   "source": [
    "# 딕셔너리 데이터 조작"
   ]
  },
  {
   "cell_type": "code",
   "execution_count": 99,
   "metadata": {},
   "outputs": [
    {
     "name": "stdout",
     "output_type": "stream",
     "text": [
      "{'학생 1': '123123123213123', 'major': 'cs', 'grade': 1, 'gpa': 4.5}\n",
      "{'학생 1': '123123123213123', 'major': 'cs', 'grade': 1, 'gpa': 4.3}\n",
      "['123123123213123', 'cs', 4.3]\n"
     ]
    }
   ],
   "source": [
    "student = {\"학생 1\" :\"123123123213123\",\n",
    "           \"major\":\"cs\",\n",
    "           \"grade\":1\n",
    "           }\n",
    "\n",
    "#추가\n",
    "student[\"gpa\"] = 4.5\n",
    "print(student)\n",
    "\n",
    "#수정\n",
    "student[\"gpa\"] = 4.3\n",
    "print(student)\n",
    "\n",
    "#삭제\n",
    "del student[\"grade\"]\n",
    "print(list(student.values()))"
   ]
  },
  {
   "cell_type": "code",
   "execution_count": 101,
   "metadata": {},
   "outputs": [
    {
     "name": "stdout",
     "output_type": "stream",
     "text": [
      "cs\n",
      "cs\n",
      "해당 키 값 쌍이 없습니다\n",
      "dict_keys(['학생 1', 'major', 'grade'])\n",
      "['학생 1', 'major', 'grade']\n",
      "dict_values(['123123123213123', 'cs', 1])\n",
      "['123123123213123', 'cs', 1]\n"
     ]
    }
   ],
   "source": [
    "# 딕셔너리 함수\n",
    "#데이터에 접근하는 함수 get\n",
    "student = {\"학생 1\" :\"123123123213123\",\n",
    "           \"major\":\"cs\",\n",
    "           \"grade\":1\n",
    "           }\n",
    "print(student.get(\"major\"))\n",
    "print(student[\"major\"])\n",
    "print(student.get(\"gpa\", \"해당 키 값 쌍이 없습니다\"))\n",
    "\n",
    "#딕셔너리 키를 전부 가져오는 함수\n",
    "print(student.keys())\n",
    "print(list(student.keys()))\n",
    "\n",
    "# 딕셔너리의 값을 반환\n",
    "print(student.values())\n",
    "print(list(student.values()))"
   ]
  },
  {
   "attachments": {},
   "cell_type": "markdown",
   "metadata": {},
   "source": [
    "# 딕셔너리 함수"
   ]
  },
  {
   "cell_type": "code",
   "execution_count": 85,
   "metadata": {},
   "outputs": [
    {
     "name": "stdout",
     "output_type": "stream",
     "text": [
      "HTML\n",
      "Java\n",
      "Python\n",
      "Go\n",
      "HTML\n",
      "Java\n",
      "Python\n",
      "Go\n",
      "Advanced\n",
      "Intermediate\n",
      "Expert\n",
      "Novice\n",
      "HTML-Advanced\n",
      "Java-Intermediate\n",
      "Python-Expert\n",
      "Go-Novice\n"
     ]
    }
   ],
   "source": [
    "tech = {\n",
    "    \"HTML\": \"Advanced\",\n",
    "    \"Java\": \"Intermediate\",\n",
    "    \"Python\": \"Expert\",\n",
    "    \"Go\":\"Novice\"\n",
    "}\n",
    "for i in tech: # 키값만 나옴\n",
    "    print(i)\n",
    "\n",
    "\n",
    "for k in tech.keys(): # 키 값\n",
    "    print(k)\n",
    "    \n",
    "for v in tech.values(): # 변수 값\n",
    "    print(v)\n",
    "\n",
    "\n",
    "for k,v in tech.items(): # 키와 값 쌍을 items로 가져옴\n",
    "    print(f\"{k}-{v}\")\n"
   ]
  },
  {
   "attachments": {},
   "cell_type": "markdown",
   "metadata": {},
   "source": [
    "# 중첩 (Nesting)"
   ]
  },
  {
   "cell_type": "code",
   "execution_count": 92,
   "metadata": {},
   "outputs": [
    {
     "name": "stdout",
     "output_type": "stream",
     "text": [
      "{'student_no': '1', 'gpa': '4.3', 'graduated': False}\n",
      "1\n",
      "{'student_no': '2', 'gpa': '3.8', 'graduated': False}\n",
      "2\n",
      "4.3\n",
      "3.8\n"
     ]
    }
   ],
   "source": [
    "student_1 = {\n",
    "    \"student_no\":\"1\",\n",
    "    \"gpa\": \"4.3\"\n",
    "    }\n",
    "\n",
    "student_2 = {\n",
    "    \"student_no\":\"2\",\n",
    "    \"gpa\": \"3.8\"\n",
    "    }\n",
    "\n",
    "students = [student_1, student_2]\n",
    "\n",
    "for student in students:\n",
    "    student['graduated'] = False # 졸업여부 추가\n",
    "    print(student)\n",
    "    print(student[\"student_no\"])\n",
    "\n",
    "\n",
    "stud = [student_1, student_2]\n",
    "for  i in stud:\n",
    "    print(i[\"gpa\"])"
   ]
  },
  {
   "cell_type": "code",
   "execution_count": 97,
   "metadata": {},
   "outputs": [
    {
     "name": "stdout",
     "output_type": "stream",
     "text": [
      "['회계원리', '중국어회화']\n",
      "회계원리\n",
      "중국어회화\n"
     ]
    }
   ],
   "source": [
    "# 딕셔너리의 하나의 값으로 리스트\n",
    "student = {\n",
    "    \"subjects\": [\"회계원리\", \"중국어회화\"]\n",
    "    }\n",
    "print(student[\"subjects\"])\n",
    "\n",
    "subjects_list = student[\"subjects\"]\n",
    "\n",
    "for subjects in subjects_list:\n",
    "    print(subjects)"
   ]
  },
  {
   "cell_type": "code",
   "execution_count": 110,
   "metadata": {},
   "outputs": [
    {
     "name": "stdout",
     "output_type": "stream",
     "text": [
      "{'scholarship': {'name': '국가장학금', 'amount': '100000'}}\n",
      "국가장학금\n",
      "100000\n"
     ]
    }
   ],
   "source": [
    "# 딕셔너리 안에 딕셔너리\n",
    "\n",
    "student = {\n",
    "    \"scholarship\" : {\n",
    "        \"name\": \"국가장학금\",\n",
    "        \"amount\": \"100000\"\n",
    "        }\n",
    "    }\n",
    "\n",
    "print(student)\n",
    "\n",
    "#for k in student.keys():\n",
    "    #print(k)\n",
    "\n",
    "\n",
    "#for v in student.values():\n",
    "    #print(v)\n",
    "\n",
    "\n",
    "for v in student.values():\n",
    "    for v_2 in v.values() :\n",
    "        print(v_2)"
   ]
  },
  {
   "attachments": {},
   "cell_type": "markdown",
   "metadata": {},
   "source": [
    "딕셔너리 실습"
   ]
  },
  {
   "cell_type": "code",
   "execution_count": 112,
   "metadata": {},
   "outputs": [
    {
     "name": "stdout",
     "output_type": "stream",
     "text": [
      "{'이름': '성림', '키': '171', '몸무게': '비밀'}\n"
     ]
    }
   ],
   "source": [
    "# 딕셔너리 추가\n",
    "\n",
    "a = {\"이름\": \"성림\", \"키\":\"171\"}\n",
    "\n",
    "a [\"몸무게\"]=\"비밀\"\n",
    "\n",
    "print(a)"
   ]
  },
  {
   "cell_type": "code",
   "execution_count": 1,
   "metadata": {},
   "outputs": [
    {
     "name": "stdout",
     "output_type": "stream",
     "text": [
      "dict_values(['성림', '171'])\n",
      "dict_keys(['이름', '키'])\n"
     ]
    }
   ],
   "source": [
    "# 딕셔너리 삭제\n",
    "a = {\"이름\": \"성림\", \"키\":\"171\",'몸무게': '비밀'}\n",
    "del a[\"몸무게\"]\n",
    "print(a.values())\n",
    "print(a.keys())"
   ]
  },
  {
   "attachments": {},
   "cell_type": "markdown",
   "metadata": {},
   "source": [
    "# 함수"
   ]
  },
  {
   "cell_type": "code",
   "execution_count": 155,
   "metadata": {},
   "outputs": [
    {
     "name": "stdout",
     "output_type": "stream",
     "text": [
      "이름은 최멋사 입니다\n",
      "이름은 이멋사 입니다\n",
      "예시 문자열 입니다\n"
     ]
    }
   ],
   "source": [
    "# Functions  define\n",
    "# 매개변수(파라미터), 인자(인수)\n",
    "\n",
    "\n",
    "#함수의 규칙 중요\n",
    "# name 파라미터(함수를 정의하는곳에 쓰인 변수) \n",
    "def print_name(name):\n",
    "    print(f\"이름은 {name} 입니다\") #파라미터 설정 필요\n",
    "# \"최멋사\"  => 인자(인수)\n",
    "print_name(\"최멋사\")\n",
    "print_name(\"이멋사\")\n",
    "\n",
    "\n",
    "def print_ex_string():\n",
    "    print(\"예시 문자열 입니다\")\n",
    "\n",
    "print_ex_string()\n",
    "\n"
   ]
  },
  {
   "cell_type": "code",
   "execution_count": 3,
   "metadata": {},
   "outputs": [
    {
     "name": "stdout",
     "output_type": "stream",
     "text": [
      "이름은 최성림이고 27살 입니다\n"
     ]
    },
    {
     "ename": "TypeError",
     "evalue": "print_name() missing 2 required positional arguments: 'name' and 'age'",
     "output_type": "error",
     "traceback": [
      "\u001b[1;31m---------------------------------------------------------------------------\u001b[0m",
      "\u001b[1;31mTypeError\u001b[0m                                 Traceback (most recent call last)",
      "Cell \u001b[1;32mIn[3], line 5\u001b[0m\n\u001b[0;32m      2\u001b[0m     \u001b[39mprint\u001b[39m(\u001b[39mf\u001b[39m\u001b[39m\"\u001b[39m\u001b[39m이름은 \u001b[39m\u001b[39m{\u001b[39;00mname\u001b[39m}\u001b[39;00m\u001b[39m이고 \u001b[39m\u001b[39m{\u001b[39;00mage\u001b[39m}\u001b[39;00m\u001b[39m살 입니다\u001b[39m\u001b[39m\"\u001b[39m)\n\u001b[0;32m      4\u001b[0m print_name(\u001b[39m\"\u001b[39m\u001b[39m최성림\u001b[39m\u001b[39m\"\u001b[39m, \u001b[39m\"\u001b[39m\u001b[39m27\u001b[39m\u001b[39m\"\u001b[39m)\n\u001b[1;32m----> 5\u001b[0m print_name()\n",
      "\u001b[1;31mTypeError\u001b[0m: print_name() missing 2 required positional arguments: 'name' and 'age'"
     ]
    }
   ],
   "source": [
    "def print_name(name,age):\n",
    "    print(f\"이름은 {name}이고 {age}살 입니다\")\n",
    "\n",
    "print_name(\"최성림\", \"27\")\n",
    "print_name() #이거는 어떻게 해결?"
   ]
  },
  {
   "attachments": {},
   "cell_type": "markdown",
   "metadata": {},
   "source": [
    "# 함수에서 파라미터 기본값을 세팅"
   ]
  },
  {
   "cell_type": "code",
   "execution_count": 7,
   "metadata": {},
   "outputs": [
    {
     "name": "stdout",
     "output_type": "stream",
     "text": [
      "3잔 / iced\n",
      "3잔 / hot\n",
      "3잔 / iced\n"
     ]
    }
   ],
   "source": [
    "def order_coffee(qty,option= \"hot\"): # default가 지정된 파라미터는 뒤에 나와야 한다.\n",
    "    print(f\"{qty}잔 / {option}\")\n",
    "\n",
    "order_coffee(3,\"iced\")\n",
    "order_coffee(3)\n",
    "order_coffee(option= 'iced', qty=3)  #동작은 각각의 파라미터에 실행된다."
   ]
  },
  {
   "attachments": {},
   "cell_type": "markdown",
   "metadata": {},
   "source": [
    "별 그리기 문제"
   ]
  },
  {
   "cell_type": "code",
   "execution_count": 11,
   "metadata": {},
   "outputs": [
    {
     "name": "stdout",
     "output_type": "stream",
     "text": [
      "*\n",
      "**\n",
      "***\n",
      "****\n"
     ]
    }
   ],
   "source": [
    "n = int(input())\n",
    "for i in range(1,n+1):\n",
    "    print(\"*\"*i, end ='\\n')"
   ]
  },
  {
   "attachments": {},
   "cell_type": "markdown",
   "metadata": {},
   "source": [
    "# 함수의 활용"
   ]
  },
  {
   "cell_type": "code",
   "execution_count": 1,
   "metadata": {},
   "outputs": [
    {
     "name": "stdout",
     "output_type": "stream",
     "text": [
      "user\n",
      "user\n"
     ]
    }
   ],
   "source": [
    "# return\n",
    "\n",
    "def get_id(email):\n",
    "    email_id = email.removesuffix(\"@test.com\")\n",
    "    print(email_id)\n",
    "\n",
    "    return email_id  # 함수의 결과물을 가지고 다른 곳에 사용 ,다른 변수에 사용 가능\n",
    "\n",
    "user_id = get_id(\"user@test.com\")\n",
    "print(user_id)"
   ]
  },
  {
   "cell_type": "code",
   "execution_count": 18,
   "metadata": {},
   "outputs": [
    {
     "name": "stdout",
     "output_type": "stream",
     "text": [
      "user\n",
      "user\n"
     ]
    }
   ],
   "source": [
    "def get_id(email):\n",
    "\n",
    "    if email.endswith(\"@test.com\"):  #어떠한 문자열로 끝나는지 참 거짓으로 확인\n",
    "        email_id = email.removesuffix(\"@test.com\")\n",
    "        print(email_id)\n",
    "        return email_id\n",
    "    else:\n",
    "        print(\"처리 x\")\n",
    "\n",
    "user_id = get_id(\"user@test.com\")\n",
    "print(user_id)"
   ]
  },
  {
   "attachments": {},
   "cell_type": "markdown",
   "metadata": {},
   "source": [
    "# 함수의 모듈"
   ]
  },
  {
   "cell_type": "code",
   "execution_count": null,
   "metadata": {},
   "outputs": [],
   "source": [
    "def get_id(email):\n",
    "\n",
    "    if email.endswith(\"@test.com\"): \n",
    "        email_id = email.removesuffix(\"@test.com\")\n",
    "        print(email_id)\n",
    "        return email_id\n",
    "    else:\n",
    "        print(\"처리 x\")\n",
    "\n",
    "user_id = get_id(\"user@test.com\")\n",
    "print(user_id)"
   ]
  },
  {
   "attachments": {},
   "cell_type": "markdown",
   "metadata": {},
   "source": [
    "# 객체지향"
   ]
  },
  {
   "cell_type": "code",
   "execution_count": 2,
   "metadata": {},
   "outputs": [],
   "source": [
    "# 클래스(class)  객체 -> 사물   어떻게 설계하냐에 따라서 영향을 미침\n",
    "\n",
    "class Student:\n",
    "\n",
    "    def __init__(self, name, major, is_graduated):       #init  초기화해서 데이터를 생성하는 함수 -> 설계도인 클래스를 통해서\n",
    "        self.name = name\n",
    "        self.major = major\n",
    "        self.is_graduated = is_graduated\n",
    "   \n",
    "    def study(self): #study라는 메써드\n",
    "        print(f\"{self.name} 학생은 공부 중입니다.\")\n"
   ]
  },
  {
   "cell_type": "code",
   "execution_count": 7,
   "metadata": {},
   "outputs": [
    {
     "name": "stdout",
     "output_type": "stream",
     "text": [
      "<__main__.Student object at 0x0000022B88AEA0D0>\n",
      "김멋사\n",
      "컴퓽터공학과\n",
      "False\n"
     ]
    }
   ],
   "source": [
    "#만들었던 class를 통해서 구현\n",
    "# 인스턴스 -실체화된 사물\n",
    "student_1 = Student('김멋사','컴퓽터공학과', False)\n",
    "print(student_1)\n",
    "student_1_name = student_1.name\n",
    "student_1_major = student_1.major\n",
    "student_1_is_graduated = student_1.is_graduated\n",
    "print(student_1_name)\n",
    "print(student_1_major)\n",
    "print(student_1_is_graduated)"
   ]
  },
  {
   "cell_type": "code",
   "execution_count": 5,
   "metadata": {},
   "outputs": [
    {
     "name": "stdout",
     "output_type": "stream",
     "text": [
      "김멋사 학생은 공부 중입니다.\n"
     ]
    }
   ],
   "source": [
    "student_1.study()"
   ]
  },
  {
   "cell_type": "code",
   "execution_count": 11,
   "metadata": {},
   "outputs": [
    {
     "name": "stdout",
     "output_type": "stream",
     "text": [
      "김멋사\n",
      "False\n",
      "김멋사 학생은 공부 중입니다.\n"
     ]
    }
   ],
   "source": [
    "class Student:\n",
    "\n",
    "    def __init__(self, name, major):       #init  초기화해서 데이터를 생성하는 함수 -> 설계도인 클래스를 통해서\n",
    "        self.name = name\n",
    "        self.major = major\n",
    "        self.is_graduated = False\n",
    "   \n",
    "    def study(self): #study라는 메써드\n",
    "        print(f\"{self.name} 학생은 공부 중입니다.\")\n",
    "\n",
    "student_1 = Student('김멋사','컴퓽터공학과')\n",
    "student_1_name =  student_1.name\n",
    "print(student_1_name)\n",
    "\n",
    "student_1_is_graduated =  student_1.is_graduated\n",
    "print(student_1_is_graduated)\n",
    "\n",
    "student_1.study()"
   ]
  },
  {
   "cell_type": "code",
   "execution_count": 15,
   "metadata": {},
   "outputs": [
    {
     "name": "stdout",
     "output_type": "stream",
     "text": [
      "기계공학과로 전공이 변경되었습니다.\n",
      "기계공학과\n"
     ]
    }
   ],
   "source": [
    "class Student:\n",
    "\n",
    "    def __init__(self, name, major):       #init  초기화해서 데이터를 생성하는 함수 -> 설계도인 클래스를 통해서\n",
    "        self.name = name\n",
    "        self.major = major\n",
    "        self.is_graduated = False\n",
    "   \n",
    "    def study(self): #study라는 메써드\n",
    "        print(f\"{self.name} 학생은 공부 중입니다.\")\n",
    "\n",
    "    def edit_major(self, new_major):\n",
    "        student_1.major = new_major\n",
    "        print(f\"{student_1.major}로 전공이 변경되었습니다.\")\n",
    "\n",
    "\n",
    "student_1 = Student('김멋사','컴퓽터공학과')\n",
    "\n",
    "#student_1.major = '기계공학과'\n",
    "student_1.edit_major('기계공학과')\n",
    "\n",
    "print(student_1.major)"
   ]
  },
  {
   "cell_type": "code",
   "execution_count": 16,
   "metadata": {},
   "outputs": [
    {
     "name": "stdout",
     "output_type": "stream",
     "text": [
      "이테킷\n",
      "국어국문학과\n",
      "False\n"
     ]
    }
   ],
   "source": [
    "#객체지향 상속\n",
    "#부모 클래스\n",
    "class ForeignStudent(Student):\n",
    "    def __init__(self, name, major):\n",
    "        super().__init__(name,major)\n",
    "\n",
    "foreign_stud_1= ForeignStudent(\"이테킷\",\"국어국문학과\")\n",
    "print(foreign_stud_1.name)\n",
    "print(foreign_stud_1.major)\n",
    "print(foreign_stud_1.is_graduated)\n",
    "\n"
   ]
  },
  {
   "cell_type": "code",
   "execution_count": 21,
   "metadata": {},
   "outputs": [
    {
     "name": "stdout",
     "output_type": "stream",
     "text": [
      "<generator object <genexpr> at 0x0000022B88752CF0>\n"
     ]
    }
   ],
   "source": [
    "a = (i for i in range(1,7))\n",
    "print(a)"
   ]
  },
  {
   "cell_type": "code",
   "execution_count": 22,
   "metadata": {},
   "outputs": [
    {
     "data": {
      "text/plain": [
       "<generator object <genexpr> at 0x0000022B88752CF0>"
      ]
     },
     "execution_count": 22,
     "metadata": {},
     "output_type": "execute_result"
    }
   ],
   "source": [
    "a"
   ]
  },
  {
   "cell_type": "code",
   "execution_count": 23,
   "metadata": {},
   "outputs": [
    {
     "name": "stdout",
     "output_type": "stream",
     "text": [
      "[1, 2, 3, 4, 5, 6, 7]\n"
     ]
    }
   ],
   "source": [
    "a = [s for s in range(1,8)]\n",
    "print(a)"
   ]
  },
  {
   "cell_type": "code",
   "execution_count": 24,
   "metadata": {},
   "outputs": [
    {
     "data": {
      "text/plain": [
       "[1, 2, 3, 4, 5, 6, 7]"
      ]
     },
     "execution_count": 24,
     "metadata": {},
     "output_type": "execute_result"
    }
   ],
   "source": [
    "a"
   ]
  },
  {
   "cell_type": "code",
   "execution_count": 27,
   "metadata": {},
   "outputs": [
    {
     "ename": "IndexError",
     "evalue": "list index out of range",
     "output_type": "error",
     "traceback": [
      "\u001b[1;31m---------------------------------------------------------------------------\u001b[0m",
      "\u001b[1;31mIndexError\u001b[0m                                Traceback (most recent call last)",
      "Cell \u001b[1;32mIn[27], line 9\u001b[0m\n\u001b[0;32m      1\u001b[0m \u001b[39m#예외 (Exceptions)\u001b[39;00m\n\u001b[0;32m      2\u001b[0m \u001b[39m#a = 10\u001b[39;00m\n\u001b[0;32m      3\u001b[0m \u001b[39m#b = 0\u001b[39;00m\n\u001b[0;32m      4\u001b[0m \n\u001b[0;32m      5\u001b[0m \u001b[39m#a/b\u001b[39;00m\n\u001b[0;32m      8\u001b[0m fruits \u001b[39m=\u001b[39m [\u001b[39m'\u001b[39m\u001b[39mapple\u001b[39m\u001b[39m'\u001b[39m, \u001b[39m'\u001b[39m\u001b[39mbanana\u001b[39m\u001b[39m'\u001b[39m,\u001b[39m'\u001b[39m\u001b[39mstrawberry\u001b[39m\u001b[39m'\u001b[39m]\n\u001b[1;32m----> 9\u001b[0m fruits[\u001b[39m3\u001b[39;49m]\n",
      "\u001b[1;31mIndexError\u001b[0m: list index out of range"
     ]
    }
   ],
   "source": [
    "#예외 (Exceptions)\n",
    "#a = 10\n",
    "#b = 0\n",
    "\n",
    "#a/b\n",
    "\n",
    "\n",
    "fruits = ['apple', 'banana','strawberry']\n",
    "fruits[3]"
   ]
  },
  {
   "cell_type": "code",
   "execution_count": 30,
   "metadata": {},
   "outputs": [
    {
     "name": "stdout",
     "output_type": "stream",
     "text": [
      "정상수행\n"
     ]
    }
   ],
   "source": [
    "#예외 2\n",
    "fruits = ['apple', 'banana','strawberry']\n",
    "\n",
    "try:\n",
    "    fruits[2]    #예외가 있을만한 코드 작성\n",
    "except:\n",
    "    print(\"인덱스를 참조할 수 없습니다.\")\n",
    "else:\n",
    "    print(\"정상수행\")"
   ]
  },
  {
   "cell_type": "code",
   "execution_count": 33,
   "metadata": {},
   "outputs": [
    {
     "name": "stdout",
     "output_type": "stream",
     "text": [
      "인덱스를 참조할 수 없습니다.\n",
      "명령 수행\n",
      "['apple', 'banana', 'strawberry']\n"
     ]
    }
   ],
   "source": [
    "fruits = ['apple', 'banana','strawberry']\n",
    "\n",
    "try:\n",
    "    fruits[3]    #예외가 있을만한 코드 작성\n",
    "except:\n",
    "    print(\"인덱스를 참조할 수 없습니다.\")\n",
    "finally:\n",
    "    print(\"명령 수행\")\n",
    "\n",
    "\n",
    "print(fruits)"
   ]
  },
  {
   "cell_type": "code",
   "execution_count": 34,
   "metadata": {},
   "outputs": [],
   "source": [
    "#파일 읽기/쓰기"
   ]
  },
  {
   "cell_type": "code",
   "execution_count": null,
   "metadata": {},
   "outputs": [],
   "source": []
  }
 ],
 "metadata": {
  "kernelspec": {
   "display_name": "Python 3",
   "language": "python",
   "name": "python3"
  },
  "language_info": {
   "codemirror_mode": {
    "name": "ipython",
    "version": 3
   },
   "file_extension": ".py",
   "mimetype": "text/x-python",
   "name": "python",
   "nbconvert_exporter": "python",
   "pygments_lexer": "ipython3",
   "version": "3.11.2"
  },
  "orig_nbformat": 4
 },
 "nbformat": 4,
 "nbformat_minor": 2
}
